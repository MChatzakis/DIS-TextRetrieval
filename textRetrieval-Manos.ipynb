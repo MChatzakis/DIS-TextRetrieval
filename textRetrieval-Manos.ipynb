{
 "cells": [
  {
   "cell_type": "code",
   "execution_count": 52,
   "metadata": {},
   "outputs": [],
   "source": [
    "import json\n",
    "import os\n",
    "import random\n",
    "\n",
    "import pandas as pd\n",
    "import numpy as np\n",
    "import matplotlib.pyplot as plt\n"
   ]
  },
  {
   "cell_type": "code",
   "execution_count": 53,
   "metadata": {},
   "outputs": [],
   "source": [
    "def load_jsonl_data(data_path: str):\n",
    "    raw_data = []\n",
    "    with open(data_path, 'r') as file:\n",
    "        for line in file:\n",
    "            data = json.loads(line)\n",
    "            raw_data.append(data)\n",
    "    return raw_data\n",
    "\n",
    "def load_jsonl_data_dict(data_path: str):\n",
    "    raw_dict = {}\n",
    "    with open(data_path, 'r') as file:\n",
    "        for line in file:\n",
    "            data = json.loads(line)\n",
    "            raw_dict[data['_id']] = data['text']\n",
    "    return raw_dict\n",
    "\n",
    "def get_vocab(documents):\n",
    "    vocabulary = list(set([item for sublist in documents for item in sublist]))\n",
    "    vocabulary.sort()\n",
    "    \n",
    "    return vocabulary"
   ]
  },
  {
   "cell_type": "code",
   "execution_count": 54,
   "metadata": {},
   "outputs": [
    {
     "name": "stdout",
     "output_type": "stream",
     "text": [
      "Number of documents: 1471406\n",
      "Number of queries:   509962\n"
     ]
    }
   ],
   "source": [
    "# Load Documents\n",
    "raw_documents = load_jsonl_data_dict(\"data/dataset/corpus.jsonl\")\n",
    "print(\"Number of documents: {}\".format(len(raw_documents)))\n",
    "\n",
    "raw_queries = load_jsonl_data_dict(\"data/dataset/queries.jsonl\")\n",
    "print(\"Number of queries:   {}\".format(len(raw_queries)))"
   ]
  },
  {
   "cell_type": "code",
   "execution_count": 57,
   "metadata": {},
   "outputs": [
    {
     "name": "stdout",
     "output_type": "stream",
     "text": [
      "After the invention of the cotton gin, cotton became Americaâs leading crop. Cotton was king. In 1790, America produced 1,500 pounds of cotton. By 1800, production had increased to 35,000 pounds.\n"
     ]
    }
   ],
   "source": [
    "for key in raw_documents.keys():\n",
    "    print(raw_documents[key])\n",
    "    break"
   ]
  },
  {
   "cell_type": "code",
   "execution_count": 39,
   "metadata": {},
   "outputs": [
    {
     "name": "stdout",
     "output_type": "stream",
     "text": [
      "dict_keys(['_id', 'text'])\n",
      "dict_keys(['_id', 'text', 'metadata'])\n",
      "{}\n"
     ]
    }
   ],
   "source": [
    "print(raw_documents[0].keys())\n",
    "print(raw_queries[0].keys())\n",
    "print(raw_queries[0]['metadata'])"
   ]
  }
 ],
 "metadata": {
  "kernelspec": {
   "display_name": "base",
   "language": "python",
   "name": "python3"
  },
  "language_info": {
   "codemirror_mode": {
    "name": "ipython",
    "version": 3
   },
   "file_extension": ".py",
   "mimetype": "text/x-python",
   "name": "python",
   "nbconvert_exporter": "python",
   "pygments_lexer": "ipython3",
   "version": "3.11.4"
  },
  "orig_nbformat": 4
 },
 "nbformat": 4,
 "nbformat_minor": 2
}
