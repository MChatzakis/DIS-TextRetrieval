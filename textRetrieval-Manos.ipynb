{
 "cells": [
  {
   "cell_type": "code",
   "execution_count": 26,
   "metadata": {},
   "outputs": [],
   "source": [
    "import json\n",
    "import os\n",
    "import random\n",
    "\n",
    "import pandas as pd\n",
    "import numpy as np\n",
    "import matplotlib.pyplot as plt"
   ]
  },
  {
   "cell_type": "code",
   "execution_count": 6,
   "metadata": {},
   "outputs": [
    {
     "data": {
      "text/plain": [
       "['1867825', '419610', '4614226', '4108603', '3744854']"
      ]
     },
     "execution_count": 6,
     "metadata": {},
     "output_type": "execute_result"
    }
   ],
   "source": [
    "data_path = \"data/dataset/corpus.jsonl\"\n",
    "corpus_documents = []\n",
    "corpus_documents_ids = []\n",
    "with open(data_path, \"r\") as file:\n",
    "    for line in file:\n",
    "        data = json.loads(line)\n",
    "        corpus_documents.append(data[\"text\"])\n",
    "        corpus_documents_ids.append(data[\"_id\"])\n",
    "\n",
    "corpus_documents_ids[0:5]"
   ]
  },
  {
   "cell_type": "code",
   "execution_count": 8,
   "metadata": {},
   "outputs": [],
   "source": [
    "from sklearn.feature_extraction.text import TfidfVectorizer\n",
    "\n",
    "tfidf_vectorizer = TfidfVectorizer()\n",
    "tfidf_matrix = tfidf_vectorizer.fit_transform(corpus_documents)"
   ]
  },
  {
   "cell_type": "code",
   "execution_count": 24,
   "metadata": {},
   "outputs": [
    {
     "data": {
      "text/plain": [
       "array([0.12009248, 0.13712392, 0.17338543, 0.18353344, 0.2466042 ,\n",
       "       0.20782878, 0.20617027, 0.24829981, 0.27342867, 0.14878987,\n",
       "       0.31758786, 0.05750954, 0.07521727, 0.12691783, 0.04379337,\n",
       "       0.15730779, 0.09580393, 0.06425652, 0.21724227, 0.15829103,\n",
       "       0.15630983, 0.21075894, 0.25698353, 0.14989651, 0.17198681,\n",
       "       0.26661405, 0.10626531, 0.09990259, 0.08397754, 0.13712392,\n",
       "       0.16228345, 0.16827458])"
      ]
     },
     "execution_count": 24,
     "metadata": {},
     "output_type": "execute_result"
    }
   ],
   "source": [
    "document_index = corpus_documents_ids.index(\"4614226\")\n",
    "tfidf_representation = tfidf_matrix[document_index]\n",
    "a = np.nonzero(np.array(tfidf_representation.toarray()))\n",
    "np.array(tfidf_representation.toarray())[a]"
   ]
  },
  {
   "cell_type": "code",
   "execution_count": 28,
   "metadata": {},
   "outputs": [
    {
     "data": {
      "text/plain": [
       "array([[0., 0., 0., ..., 0., 0., 0.]])"
      ]
     },
     "execution_count": 28,
     "metadata": {},
     "output_type": "execute_result"
    }
   ],
   "source": [
    "query = \"How does TF-IDF work?\"\n",
    "\n",
    "# Vectorize the query using the same TF-IDF vectorizer\n",
    "query_vector = tfidf_vectorizer.transform([query])\n",
    "query_vector.toarray()"
   ]
  },
  {
   "cell_type": "code",
   "execution_count": 29,
   "metadata": {},
   "outputs": [],
   "source": [
    "from sklearn.metrics.pairwise import cosine_similarity\n",
    "\n",
    "cosine_similarities = cosine_similarity(query_vector, tfidf_matrix)"
   ]
  },
  {
   "cell_type": "code",
   "execution_count": 34,
   "metadata": {},
   "outputs": [
    {
     "data": {
      "text/plain": [
       "array([ 255302, 1321829,   25413, ...,  958995,  958996,       0])"
      ]
     },
     "execution_count": 34,
     "metadata": {},
     "output_type": "execute_result"
    }
   ],
   "source": [
    "document_indices_sorted_by_similarity = cosine_similarities[0].argsort()[::-1]\n",
    "\n",
    "# Get the corresponding similarity scores\n",
    "similarity_scores_sorted = cosine_similarities[0][document_indices_sorted_by_similarity]\n",
    "document_indices_sorted_by_similarity"
   ]
  },
  {
   "cell_type": "code",
   "execution_count": 35,
   "metadata": {},
   "outputs": [
    {
     "data": {
      "text/plain": [
       "0.3988510691915165"
      ]
     },
     "execution_count": 35,
     "metadata": {},
     "output_type": "execute_result"
    }
   ],
   "source": [
    "similarity_scores_sorted[0]"
   ]
  },
  {
   "cell_type": "code",
   "execution_count": 31,
   "metadata": {},
   "outputs": [
    {
     "ename": "NameError",
     "evalue": "name 'text_data' is not defined",
     "output_type": "error",
     "traceback": [
      "\u001b[0;31m---------------------------------------------------------------------------\u001b[0m",
      "\u001b[0;31mNameError\u001b[0m                                 Traceback (most recent call last)",
      "\u001b[1;32m/Users/manoschatzakis/Documents/GitHub/DIS-TextRetrieval/textRetrieval-Manos.ipynb Cell 8\u001b[0m line \u001b[0;36m4\n\u001b[1;32m      <a href='vscode-notebook-cell:/Users/manoschatzakis/Documents/GitHub/DIS-TextRetrieval/textRetrieval-Manos.ipynb#X15sZmlsZQ%3D%3D?line=0'>1</a>\u001b[0m num_top_documents \u001b[39m=\u001b[39m \u001b[39m5\u001b[39m\n\u001b[1;32m      <a href='vscode-notebook-cell:/Users/manoschatzakis/Documents/GitHub/DIS-TextRetrieval/textRetrieval-Manos.ipynb#X15sZmlsZQ%3D%3D?line=2'>3</a>\u001b[0m \u001b[39m# Retrieve the top N documents and their similarity scores\u001b[39;00m\n\u001b[0;32m----> <a href='vscode-notebook-cell:/Users/manoschatzakis/Documents/GitHub/DIS-TextRetrieval/textRetrieval-Manos.ipynb#X15sZmlsZQ%3D%3D?line=3'>4</a>\u001b[0m top_documents \u001b[39m=\u001b[39m [text_data[i] \u001b[39mfor\u001b[39;00m i \u001b[39min\u001b[39;00m document_indices_sorted_by_similarity[:num_top_documents]]\n\u001b[1;32m      <a href='vscode-notebook-cell:/Users/manoschatzakis/Documents/GitHub/DIS-TextRetrieval/textRetrieval-Manos.ipynb#X15sZmlsZQ%3D%3D?line=4'>5</a>\u001b[0m top_similarity_scores \u001b[39m=\u001b[39m similarity_scores_sorted[:num_top_documents]\n\u001b[1;32m      <a href='vscode-notebook-cell:/Users/manoschatzakis/Documents/GitHub/DIS-TextRetrieval/textRetrieval-Manos.ipynb#X15sZmlsZQ%3D%3D?line=6'>7</a>\u001b[0m \u001b[39m# Present the results\u001b[39;00m\n",
      "\u001b[1;32m/Users/manoschatzakis/Documents/GitHub/DIS-TextRetrieval/textRetrieval-Manos.ipynb Cell 8\u001b[0m line \u001b[0;36m4\n\u001b[1;32m      <a href='vscode-notebook-cell:/Users/manoschatzakis/Documents/GitHub/DIS-TextRetrieval/textRetrieval-Manos.ipynb#X15sZmlsZQ%3D%3D?line=0'>1</a>\u001b[0m num_top_documents \u001b[39m=\u001b[39m \u001b[39m5\u001b[39m\n\u001b[1;32m      <a href='vscode-notebook-cell:/Users/manoschatzakis/Documents/GitHub/DIS-TextRetrieval/textRetrieval-Manos.ipynb#X15sZmlsZQ%3D%3D?line=2'>3</a>\u001b[0m \u001b[39m# Retrieve the top N documents and their similarity scores\u001b[39;00m\n\u001b[0;32m----> <a href='vscode-notebook-cell:/Users/manoschatzakis/Documents/GitHub/DIS-TextRetrieval/textRetrieval-Manos.ipynb#X15sZmlsZQ%3D%3D?line=3'>4</a>\u001b[0m top_documents \u001b[39m=\u001b[39m [text_data[i] \u001b[39mfor\u001b[39;00m i \u001b[39min\u001b[39;00m document_indices_sorted_by_similarity[:num_top_documents]]\n\u001b[1;32m      <a href='vscode-notebook-cell:/Users/manoschatzakis/Documents/GitHub/DIS-TextRetrieval/textRetrieval-Manos.ipynb#X15sZmlsZQ%3D%3D?line=4'>5</a>\u001b[0m top_similarity_scores \u001b[39m=\u001b[39m similarity_scores_sorted[:num_top_documents]\n\u001b[1;32m      <a href='vscode-notebook-cell:/Users/manoschatzakis/Documents/GitHub/DIS-TextRetrieval/textRetrieval-Manos.ipynb#X15sZmlsZQ%3D%3D?line=6'>7</a>\u001b[0m \u001b[39m# Present the results\u001b[39;00m\n",
      "\u001b[0;31mNameError\u001b[0m: name 'text_data' is not defined"
     ]
    }
   ],
   "source": [
    "num_top_documents = 5\n",
    "\n",
    "# Retrieve the top N documents and their similarity scores\n",
    "top_documents = [text_data[i] for i in document_indices_sorted_by_similarity[:num_top_documents]]\n",
    "top_similarity_scores = similarity_scores_sorted[:num_top_documents]\n",
    "\n",
    "# Present the results\n",
    "for i, (document, similarity) in enumerate(zip(top_documents, top_similarity_scores), start=1):\n",
    "    print(f\"Rank {i}: Similarity Score = {similarity:.4f}\")\n",
    "    print(document)\n",
    "    print()\n"
   ]
  }
 ],
 "metadata": {
  "kernelspec": {
   "display_name": "base",
   "language": "python",
   "name": "python3"
  },
  "language_info": {
   "codemirror_mode": {
    "name": "ipython",
    "version": 3
   },
   "file_extension": ".py",
   "mimetype": "text/x-python",
   "name": "python",
   "nbconvert_exporter": "python",
   "pygments_lexer": "ipython3",
   "version": "3.11.4"
  },
  "orig_nbformat": 4
 },
 "nbformat": 4,
 "nbformat_minor": 2
}
