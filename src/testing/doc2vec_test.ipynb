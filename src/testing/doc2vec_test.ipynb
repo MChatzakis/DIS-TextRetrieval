{
 "cells": [
  {
   "cell_type": "markdown",
   "metadata": {},
   "source": [
    "# Basic functions and usage of Doc2Vec wrapper"
   ]
  },
  {
   "cell_type": "code",
   "execution_count": 4,
   "metadata": {},
   "outputs": [
    {
     "name": "stderr",
     "output_type": "stream",
     "text": [
      "[nltk_data] Downloading package stopwords to\n",
      "[nltk_data]     /Users/manoschatzakis/nltk_data...\n",
      "[nltk_data]   Package stopwords is already up-to-date!\n",
      "[nltk_data] Downloading package punkt to\n",
      "[nltk_data]     /Users/manoschatzakis/nltk_data...\n",
      "[nltk_data]   Package punkt is already up-to-date!\n",
      "[nltk_data] Downloading package wordnet to\n",
      "[nltk_data]     /Users/manoschatzakis/nltk_data...\n",
      "[nltk_data]   Package wordnet is already up-to-date!\n"
     ]
    }
   ],
   "source": [
    "import json\n",
    "import sys\n",
    "import random\n",
    "\n",
    "sys.path.append(\"../\")\n",
    "\n",
    "from gensim.models.doc2vec import Doc2Vec, TaggedDocument\n",
    "from models.doc2vec_model import Doc2VecModel, CompareBuildinAndCustomMostSimilar\n",
    "from tqdm import tqdm\n",
    "from preprocessors.preprocessor import Preprocessor\n",
    "from preprocessors.expander import Expander\n",
    "\n",
    "import pandas as pd\n",
    "import numpy as np\n",
    "\n",
    "import IR_utils\n",
    "\n",
    "random.seed(0)\n",
    "np.random.seed(0)\n",
    "\n",
    "%load_ext autoreload\n",
    "%autoreload 2"
   ]
  },
  {
   "cell_type": "markdown",
   "metadata": {},
   "source": [
    "## Load the corpus data"
   ]
  },
  {
   "cell_type": "code",
   "execution_count": 5,
   "metadata": {},
   "outputs": [
    {
     "name": "stdout",
     "output_type": "stream",
     "text": [
      "Number of docs: 1471406\n",
      "Number of queries (t1): 7437\n",
      "Number of queries (t2): 33\n"
     ]
    }
   ],
   "source": [
    "preprocessor = Preprocessor(expander=Expander())\n",
    "\n",
    "docs = preprocessor.load_docs(\"../../data/dataset/tokenized_corpus.jsonl\")\n",
    "\n",
    "test_queries_t1 = IR_utils.load_test_queries_t1(\n",
    "    \"../../data/dataset/queries.jsonl\", \"../../data/task1_test.tsv\"\n",
    ")[0]\n",
    "\n",
    "test_queries_t2 = IR_utils.load_test_queries_t2(\n",
    "    \"../../data/dataset/queries.jsonl\", \"../../data/task2_test.tsv\"\n",
    ")[0]\n",
    "\n",
    "\n",
    "print(\"Number of docs:\", len(docs))\n",
    "print(\"Number of queries (t1):\", len(test_queries_t1))\n",
    "print(\"Number of queries (t2):\", len(test_queries_t2))"
   ]
  },
  {
   "cell_type": "markdown",
   "metadata": {},
   "source": [
    "## Train or Load the Model"
   ]
  },
  {
   "cell_type": "code",
   "execution_count": 6,
   "metadata": {},
   "outputs": [],
   "source": [
    "# Select to train or load a doc2vec model\n",
    "vector_size = 30\n",
    "window = 10\n",
    "min_count = 60\n",
    "workers = 16\n",
    "epochs = 150\n",
    "\n",
    "num_docs = len(docs)\n",
    "\n",
    "path = f\"../../models/d2v/doc2vec.docs{num_docs}.vs{vector_size}.win{window}.min{min_count}.ep{epochs}.model\"\n",
    "\n",
    "d2v = Doc2VecModel.from_pretrained(path)"
   ]
  },
  {
   "cell_type": "code",
   "execution_count": 8,
   "metadata": {},
   "outputs": [
    {
     "name": "stderr",
     "output_type": "stream",
     "text": [
      "[nltk_data] Downloading package wordnet to\n",
      "[nltk_data]     /Users/manoschatzakis/nltk_data...\n",
      "[nltk_data]   Package wordnet is already up-to-date!\n",
      "Query Preprocessing and Expansion: 100%|██████████| 7437/7437 [00:00<00:00, 9186.10 queries/s]\n",
      "Query Preprocessing and Expansion: 100%|██████████| 33/33 [00:00<00:00, 10086.14 queries/s]\n"
     ]
    }
   ],
   "source": [
    "for query_data in tqdm(test_queries_t1, desc=\"Query Preprocessing and Expansion\", unit=\" queries\"):\n",
    "    query_text = query_data[\"text\"]\n",
    "    query_data[\"query_terms\"] = preprocessor.preprocess_query(query_text, expand=True)\n",
    "\n",
    "for query_data in tqdm(test_queries_t2, desc=\"Query Preprocessing and Expansion\", unit=\" queries\"):\n",
    "    query_text = query_data[\"text\"]\n",
    "    query_data[\"query_terms\"] = preprocessor.preprocess_query(query_text, expand=True)\n",
    "    "
   ]
  },
  {
   "cell_type": "code",
   "execution_count": null,
   "metadata": {},
   "outputs": [],
   "source": [
    "csv_string = \"id,corpus-id,score\\n\"\n",
    "for query_data in tqdm(test_queries_t1, desc=\"Querying\", unit=\" queries\"):\n",
    "    query_index = query_data[\"id\"]\n",
    "    results = d2v.find_similar(query_data[\"query_terms\"], 10)\n",
    "\n",
    "    doc_ids = [result[0] for result in results]\n",
    "    csv_string += f\"{query_index},\\\"{doc_ids}\\\",-1\\n\"\n",
    "\n",
    "for query_data in tqdm(test_queries_t2, desc=\"Querying\", unit=\" queries\"):\n",
    "    query_index = query_data[\"id\"]\n",
    "\n",
    "    document_scores = list(d2v.get_document_scores(query_data[\"relevant_doc_ids\"], query_data[\"query_terms\"]))\n",
    "\n",
    "    csv_string += f\"{query_index},-1,\\\"{document_scores}\\\"\\n\"\n",
    "\n",
    "with open(\"../../submissions/d2v_submission.csv\", \"w\") as f:\n",
    "    f.write(csv_string)"
   ]
  }
 ],
 "metadata": {
  "kernelspec": {
   "display_name": "base",
   "language": "python",
   "name": "python3"
  },
  "language_info": {
   "codemirror_mode": {
    "name": "ipython",
    "version": 3
   },
   "file_extension": ".py",
   "mimetype": "text/x-python",
   "name": "python",
   "nbconvert_exporter": "python",
   "pygments_lexer": "ipython3",
   "version": "3.11.5"
  }
 },
 "nbformat": 4,
 "nbformat_minor": 2
}
