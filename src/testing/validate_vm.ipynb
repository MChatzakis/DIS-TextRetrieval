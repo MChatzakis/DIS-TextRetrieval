{
 "cells": [
  {
   "cell_type": "code",
   "execution_count": 33,
   "metadata": {},
   "outputs": [
    {
     "name": "stdout",
     "output_type": "stream",
     "text": [
      "The autoreload extension is already loaded. To reload it, use:\n",
      "  %reload_ext autoreload\n"
     ]
    }
   ],
   "source": [
    "import numpy as np\n",
    "import pandas as pd\n",
    "from sklearn.feature_extraction.text import TfidfVectorizer\n",
    "from sklearn.feature_extraction.text import CountVectorizer\n",
    "from sklearn.metrics.pairwise import cosine_similarity\n",
    "\n",
    "import random\n",
    "\n",
    "import sys\n",
    "sys.path.append(\"../\")\n",
    "\n",
    "from models.vector_model import vector_model\n",
    "\n",
    "\n",
    "random.seed(0)\n",
    "np.random.seed(0)\n",
    "\n",
    "%load_ext autoreload\n",
    "%autoreload 2"
   ]
  },
  {
   "cell_type": "code",
   "execution_count": 34,
   "metadata": {},
   "outputs": [
    {
     "name": "stderr",
     "output_type": "stream",
     "text": [
      "100%|██████████| 5/5 [00:00<00:00, 11881.88it/s]\n"
     ]
    }
   ],
   "source": [
    "docs = {\n",
    "    54: \"The cat sat on the mat\",\n",
    "    46: \"The dog sat on the mat\",\n",
    "    45: \"The cat and dog slept slept\",\n",
    "    12: \"The mouse sat on the mat\",\n",
    "    50: \"The duck sat on the mat\",\n",
    "}\n",
    "\n",
    "docs_list = [docs[i] for i in docs.keys()]\n",
    "\n",
    "from preprocessors.preprocessor import Preprocessor\n",
    "\n",
    "preprocessor = Preprocessor()\n",
    "tokenized_docs = preprocessor.preprocess(docs)"
   ]
  },
  {
   "cell_type": "code",
   "execution_count": 35,
   "metadata": {},
   "outputs": [
    {
     "name": "stdout",
     "output_type": "stream",
     "text": [
      "{'cat': 0, 'sat': 5, 'mat': 3, 'dog': 1, 'slept': 6, 'mouse': 4, 'duck': 2}\n",
      "7\n",
      "[1.69314718 1.69314718 2.09861229 1.18232156 2.09861229 1.18232156\n",
      " 2.09861229]\n"
     ]
    }
   ],
   "source": [
    "vectorizer = TfidfVectorizer(min_df=1, stop_words=\"english\")\n",
    "X = vectorizer.fit_transform(docs_list)\n",
    "X.toarray()\n",
    "print(vectorizer.vocabulary_)\n",
    "print(len(vectorizer.vocabulary_))\n",
    "print(vectorizer.idf_)\n"
   ]
  },
  {
   "cell_type": "code",
   "execution_count": 36,
   "metadata": {},
   "outputs": [
    {
     "name": "stdout",
     "output_type": "stream",
     "text": [
      "{'cat': 2, 'sat': 4, 'mat': 4, 'dog': 2, 'slept': 1, 'mous': 1, 'duck': 1}\n"
     ]
    },
    {
     "name": "stderr",
     "output_type": "stream",
     "text": [
      "5it [00:00, 49461.13it/s]"
     ]
    },
    {
     "name": "stdout",
     "output_type": "stream",
     "text": [
      "[0.96911031 0.96911031 1.73495958 1.64008429 1.64008429]\n",
      "['cat', 'dog', 'duck', 'mat', 'mous', 'sat', 'slept']\n",
      "7\n",
      "{'cat': 0.9162907318741551, 'sat': 0.22314355131420976, 'mat': 0.22314355131420976, 'dog': 0.9162907318741551, 'slept': 1.6094379124341003, 'mous': 1.6094379124341003, 'duck': 1.6094379124341003}\n"
     ]
    },
    {
     "name": "stderr",
     "output_type": "stream",
     "text": [
      "\n"
     ]
    }
   ],
   "source": [
    "vm = vector_model(tokenized_docs, min_df=1)\n",
    "vm.fit()\n",
    "\n",
    "#vm.vectors\n",
    "print(vm.vector_norms)\n",
    "print(vm.vocab)\n",
    "print(len(vm.vocab))\n",
    "#print(vm.vectors)\n",
    "print(vm.idf)"
   ]
  },
  {
   "cell_type": "code",
   "execution_count": 37,
   "metadata": {},
   "outputs": [
    {
     "name": "stdout",
     "output_type": "stream",
     "text": [
      "[[0.70266106]\n",
      " [0.70266106]\n",
      " [0.        ]\n",
      " [0.62314068]\n",
      " [0.62314068]]\n"
     ]
    }
   ],
   "source": [
    "query = \"The kitty sat on the mat\"\n",
    "\n",
    "print(cosine_similarity(X,vectorizer.transform([query])))"
   ]
  },
  {
   "cell_type": "code",
   "execution_count": 38,
   "metadata": {},
   "outputs": [
    {
     "data": {
      "text/plain": [
       "['kitti', 'sat', 'mat']"
      ]
     },
     "execution_count": 38,
     "metadata": {},
     "output_type": "execute_result"
    }
   ],
   "source": [
    "q_terms = preprocessor.preprocess_query(query)\n",
    "q_terms"
   ]
  },
  {
   "cell_type": "code",
   "execution_count": 39,
   "metadata": {},
   "outputs": [
    {
     "name": "stdout",
     "output_type": "stream",
     "text": [
      "[0.         0.         0.         0.22314355 0.         0.22314355\n",
      " 0.        ]\n"
     ]
    },
    {
     "data": {
      "text/plain": [
       "([(46, 0.32563128587164397),\n",
       "  (54, 0.32563128587164397),\n",
       "  (12, 0.19241244994255877),\n",
       "  (50, 0.19241244994255877),\n",
       "  (45, 0.0)],\n",
       " array([0.32563129, 0.32563129, 0.        , 0.19241245, 0.19241245]))"
      ]
     },
     "execution_count": 39,
     "metadata": {},
     "output_type": "execute_result"
    }
   ],
   "source": [
    "vm.find_similar(q_terms, topn=5)"
   ]
  }
 ],
 "metadata": {
  "kernelspec": {
   "display_name": "base",
   "language": "python",
   "name": "python3"
  },
  "language_info": {
   "codemirror_mode": {
    "name": "ipython",
    "version": 3
   },
   "file_extension": ".py",
   "mimetype": "text/x-python",
   "name": "python",
   "nbconvert_exporter": "python",
   "pygments_lexer": "ipython3",
   "version": "3.11.4"
  }
 },
 "nbformat": 4,
 "nbformat_minor": 2
}
