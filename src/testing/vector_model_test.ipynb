{
 "cells": [
  {
   "cell_type": "code",
   "execution_count": 2,
   "metadata": {},
   "outputs": [
    {
     "name": "stdout",
     "output_type": "stream",
     "text": [
      "The autoreload extension is already loaded. To reload it, use:\n",
      "  %reload_ext autoreload\n"
     ]
    },
    {
     "name": "stderr",
     "output_type": "stream",
     "text": [
      "[nltk_data] Downloading package wordnet to\n",
      "[nltk_data]     /Users/manoschatzakis/nltk_data...\n",
      "[nltk_data]   Package wordnet is already up-to-date!\n"
     ]
    }
   ],
   "source": [
    "import json\n",
    "import sys\n",
    "import random\n",
    "import gc\n",
    "\n",
    "sys.path.append(\"../\")\n",
    "\n",
    "from models.vector_model import vector_model\n",
    "from tqdm import tqdm\n",
    "from preprocessors.preprocessor import Preprocessor\n",
    "from preprocessors.expander import Expander\n",
    "\n",
    "import pandas as pd\n",
    "import numpy as np\n",
    "\n",
    "import IR_utils\n",
    "\n",
    "random.seed(0)\n",
    "np.random.seed(0)\n",
    "\n",
    "%load_ext autoreload\n",
    "%autoreload 2"
   ]
  },
  {
   "cell_type": "code",
   "execution_count": 3,
   "metadata": {},
   "outputs": [
    {
     "name": "stdout",
     "output_type": "stream",
     "text": [
      "Number of docs: 1471406\n",
      "Number of queries (t1): 7437\n",
      "Number of queries (t2): 33\n"
     ]
    }
   ],
   "source": [
    "preprocessor = Preprocessor(expander=Expander())\n",
    "\n",
    "docs = preprocessor.load_docs(\"../../data/dataset/tokenized_corpus.jsonl\")\n",
    "\n",
    "test_queries_t1 = IR_utils.load_test_queries_t1(\n",
    "    \"../../data/dataset/queries.jsonl\", \"../../data/task1_test.tsv\"\n",
    ")[0]\n",
    "\n",
    "test_queries_t2 = IR_utils.load_test_queries_t2(\n",
    "    \"../../data/dataset/queries.jsonl\", \"../../data/task2_test.tsv\"\n",
    ")[0]\n",
    "\n",
    "\n",
    "print(\"Number of docs:\", len(docs))\n",
    "print(\"Number of queries (t1):\", len(test_queries_t1))\n",
    "print(\"Number of queries (t2):\", len(test_queries_t2))"
   ]
  },
  {
   "cell_type": "code",
   "execution_count": 4,
   "metadata": {},
   "outputs": [
    {
     "name": "stderr",
     "output_type": "stream",
     "text": [
      "Query Preprocessing and Expansion: 100%|██████████| 7437/7437 [00:03<00:00, 1908.75 queries/s]\n",
      "Query Preprocessing and Expansion: 100%|██████████| 33/33 [00:00<00:00, 8682.23 queries/s]\n"
     ]
    }
   ],
   "source": [
    "for query_data in tqdm(test_queries_t1, desc=\"Query Preprocessing and Expansion\", unit=\" queries\"):\n",
    "    query_text = query_data[\"text\"]\n",
    "    query_data[\"query_terms\"] = preprocessor.preprocess_query(query_text, expand=True)\n",
    "\n",
    "for query_data in tqdm(test_queries_t2, desc=\"Query Preprocessing and Expansion\", unit=\" queries\"):\n",
    "    query_text = query_data[\"text\"]\n",
    "    query_data[\"query_terms\"] = preprocessor.preprocess_query(query_text, expand=True)"
   ]
  },
  {
   "cell_type": "code",
   "execution_count": 8,
   "metadata": {},
   "outputs": [],
   "source": [
    "vm = vector_model.from_pretrained(\"../../models/vm/mdf30000\")"
   ]
  },
  {
   "cell_type": "code",
   "execution_count": 9,
   "metadata": {},
   "outputs": [
    {
     "name": "stderr",
     "output_type": "stream",
     "text": [
      "Querying:   0%|          | 0/7437 [00:00<?, ? queries/s]"
     ]
    },
    {
     "name": "stderr",
     "output_type": "stream",
     "text": [
      "Querying:  28%|██▊       | 2106/7437 [01:34<04:35, 19.37 queries/s]"
     ]
    }
   ],
   "source": [
    "csv_string = \"id,corpus-id,score\\n\"\n",
    "for query_data in tqdm(test_queries_t1, desc=\"Querying\", unit=\" queries\"):\n",
    "    query_index = query_data[\"id\"]\n",
    "    results = vm.find_similar(query_data[\"query_terms\"], 10)\n",
    "\n",
    "    doc_ids = [result[0] for result in results]\n",
    "    csv_string += f'{query_index},\"{doc_ids}\",-1\\n'\n",
    "\n",
    "for query_data in tqdm(test_queries_t2, desc=\"Querying\", unit=\" queries\"):\n",
    "    query_index = query_data[\"id\"]\n",
    "\n",
    "    document_scores = list(\n",
    "        vm.get_document_scores(\n",
    "            query_data[\"relevant_doc_ids\"], query_data[\"query_terms\"]\n",
    "        )\n",
    "    )\n",
    "\n",
    "    csv_string += f'{query_index},-1,\"{document_scores}\"\\n'\n",
    "\n",
    "with open(\"../../submissions/d2v_submission.csv\", \"w\") as f:\n",
    "    f.write(csv_string)"
   ]
  }
 ],
 "metadata": {
  "kernelspec": {
   "display_name": "base",
   "language": "python",
   "name": "python3"
  },
  "language_info": {
   "codemirror_mode": {
    "name": "ipython",
    "version": 3
   },
   "file_extension": ".py",
   "mimetype": "text/x-python",
   "name": "python",
   "nbconvert_exporter": "python",
   "pygments_lexer": "ipython3",
   "version": "3.11.5"
  }
 },
 "nbformat": 4,
 "nbformat_minor": 2
}
