{
 "cells": [
  {
   "cell_type": "code",
   "execution_count": 1,
   "metadata": {},
   "outputs": [
    {
     "name": "stderr",
     "output_type": "stream",
     "text": [
      "[nltk_data] Downloading package stopwords to\n",
      "[nltk_data]     /Users/manoschatzakis/nltk_data...\n",
      "[nltk_data]   Package stopwords is already up-to-date!\n",
      "[nltk_data] Downloading package punkt to\n",
      "[nltk_data]     /Users/manoschatzakis/nltk_data...\n",
      "[nltk_data]   Package punkt is already up-to-date!\n"
     ]
    }
   ],
   "source": [
    "import json\n",
    "import sys\n",
    "import random\n",
    "\n",
    "sys.path.append(\"../\")\n",
    "\n",
    "from models.vector_model import vector_model\n",
    "from tqdm import tqdm\n",
    "from preprocessors.preprocessor import Preprocessor\n",
    "\n",
    "import pandas as pd\n",
    "import numpy as np\n",
    "\n",
    "import IR_utils\n",
    "\n",
    "random.seed(0)\n",
    "np.random.seed(0)\n",
    "\n",
    "%load_ext autoreload\n",
    "%autoreload 2"
   ]
  },
  {
   "cell_type": "code",
   "execution_count": 3,
   "metadata": {},
   "outputs": [
    {
     "name": "stdout",
     "output_type": "stream",
     "text": [
      "Number of documents in corpus: 1471406\n"
     ]
    }
   ],
   "source": [
    "data_path = \"../../data/dataset/corpus.jsonl\"\n",
    "docs = IR_utils.load_document_corpus(data_path=data_path)\n",
    "\n",
    "print(\"Number of documents in corpus: {}\".format(len(docs)))"
   ]
  },
  {
   "cell_type": "code",
   "execution_count": 4,
   "metadata": {},
   "outputs": [
    {
     "name": "stderr",
     "output_type": "stream",
     "text": [
      "100%|██████████| 1471406/1471406 [08:12<00:00, 2984.95it/s]\n"
     ]
    }
   ],
   "source": [
    "preprocessor = Preprocessor()\n",
    "tokenized_docs = preprocessor.preprocess(docs)"
   ]
  },
  {
   "cell_type": "code",
   "execution_count": null,
   "metadata": {},
   "outputs": [],
   "source": [
    "vm = vector_model(documents=tokenized_docs, min_df=3)\n",
    "vm.fit()\n",
    "\n",
    "print(vm.describe())"
   ]
  },
  {
   "cell_type": "code",
   "execution_count": null,
   "metadata": {},
   "outputs": [],
   "source": [
    "train_queries, all_queries = IR_utils.load_train_queries(\n",
    "    \"../../data/dataset/queries.jsonl\", \"../../data/task1_train.tsv\"\n",
    ")\n",
    "\n",
    "test_queries, all_queries = IR_utils.load_test_queries(\n",
    "    \"../../data/dataset/queries.jsonl\", \"../../data/task1_test.tsv\"\n",
    ")"
   ]
  },
  {
   "cell_type": "code",
   "execution_count": null,
   "metadata": {},
   "outputs": [],
   "source": [
    "TOP_K = 10\n",
    "\n",
    "query_ids = list(test_queries.keys())\n",
    "\n",
    "for query_id in tqdm(query_ids):\n",
    "    d2v_query_answers = vm.find_similar(test_queries[query_id][\"text\"], TOP_K)\n",
    "\n",
    "    retrieved_doc_ids = [id for id, score in d2v_query_answers]\n",
    "    retrieved_doc_scores = [score for id, score in d2v_query_answers]\n",
    "\n",
    "    test_queries[query_id][\"retrieved_doc_ids\"] = retrieved_doc_ids\n",
    "    test_queries[query_id][\"retrieved_doc_scores\"] = retrieved_doc_scores"
   ]
  }
 ],
 "metadata": {
  "kernelspec": {
   "display_name": "base",
   "language": "python",
   "name": "python3"
  },
  "language_info": {
   "codemirror_mode": {
    "name": "ipython",
    "version": 3
   },
   "file_extension": ".py",
   "mimetype": "text/x-python",
   "name": "python",
   "nbconvert_exporter": "python",
   "pygments_lexer": "ipython3",
   "version": "3.11.4"
  }
 },
 "nbformat": 4,
 "nbformat_minor": 2
}
