{
 "cells": [
  {
   "cell_type": "code",
   "execution_count": 3,
   "metadata": {},
   "outputs": [],
   "source": [
    "import json\n",
    "import sys\n",
    "import random\n",
    "import gc\n",
    "\n",
    "sys.path.append(\"../\")\n",
    "\n",
    "from models.vector_model import vector_model\n",
    "from tqdm import tqdm\n",
    "from preprocessors.preprocessor import Preprocessor\n",
    "\n",
    "import pandas as pd\n",
    "import numpy as np\n",
    "\n",
    "import IR_utils\n",
    "\n",
    "random.seed(0)\n",
    "np.random.seed(0)\n",
    "\n",
    "%load_ext autoreload\n",
    "%autoreload 2"
   ]
  },
  {
   "cell_type": "code",
   "execution_count": 4,
   "metadata": {},
   "outputs": [],
   "source": [
    "vm = vector_model.from_pretrained(\"../../models/vm/mdf4000\")\n",
    "\n",
    "test_queries_t1 = IR_utils.load_test_queries(\n",
    "    \"../../data/dataset/queries.jsonl\", \"../../data/task1_test.tsv\"\n",
    ")[0]\n",
    "\n",
    "preprocessor = Preprocessor()"
   ]
  },
  {
   "cell_type": "code",
   "execution_count": 9,
   "metadata": {},
   "outputs": [
    {
     "name": "stderr",
     "output_type": "stream",
     "text": [
      "Querying:   0%|          | 5/6980 [00:27<10:36:48,  5.48s/ queries]\n"
     ]
    },
    {
     "ename": "KeyboardInterrupt",
     "evalue": "",
     "output_type": "error",
     "traceback": [
      "\u001b[0;31m---------------------------------------------------------------------------\u001b[0m",
      "\u001b[0;31mKeyboardInterrupt\u001b[0m                         Traceback (most recent call last)",
      "\u001b[1;32m/Users/manoschatzakis/Documents/GitHub/DIS-TextRetrieval/src/testing/vector_model_test.ipynb Cell 3\u001b[0m line \u001b[0;36m6\n\u001b[1;32m      <a href='vscode-notebook-cell:/Users/manoschatzakis/Documents/GitHub/DIS-TextRetrieval/src/testing/vector_model_test.ipynb#W6sZmlsZQ%3D%3D?line=2'>3</a>\u001b[0m query_index \u001b[39m=\u001b[39m test_queries_t1[query_id][\u001b[39m\"\u001b[39m\u001b[39mid\u001b[39m\u001b[39m\"\u001b[39m]\n\u001b[1;32m      <a href='vscode-notebook-cell:/Users/manoschatzakis/Documents/GitHub/DIS-TextRetrieval/src/testing/vector_model_test.ipynb#W6sZmlsZQ%3D%3D?line=4'>5</a>\u001b[0m query_terms \u001b[39m=\u001b[39m query_text\u001b[39m.\u001b[39msplit()\u001b[39m# preprocessor.preprocess_query(query_text)\u001b[39;00m\n\u001b[0;32m----> <a href='vscode-notebook-cell:/Users/manoschatzakis/Documents/GitHub/DIS-TextRetrieval/src/testing/vector_model_test.ipynb#W6sZmlsZQ%3D%3D?line=5'>6</a>\u001b[0m results \u001b[39m=\u001b[39m vm\u001b[39m.\u001b[39mfind_similar(query_terms, topn\u001b[39m=\u001b[39m\u001b[39m10\u001b[39m)\n",
      "File \u001b[0;32m~/Documents/GitHub/DIS-TextRetrieval/src/testing/../models/vector_model.py:185\u001b[0m, in \u001b[0;36mvector_model.find_similar\u001b[0;34m(self, query_terms, topn)\u001b[0m\n\u001b[1;32m    182\u001b[0m query_vector \u001b[39m=\u001b[39m \u001b[39mself\u001b[39m\u001b[39m.\u001b[39mvectorize(query_terms)\n\u001b[1;32m    184\u001b[0m \u001b[39m# Calculate cosine similarity between the input doc_vector and all doc_vectors in the model\u001b[39;00m\n\u001b[0;32m--> 185\u001b[0m similarities \u001b[39m=\u001b[39m \u001b[39mself\u001b[39m\u001b[39m.\u001b[39mcosine_similarity(query_vector)\n\u001b[1;32m    187\u001b[0m \u001b[39m# Get the indices of the top 'topn' most similar documents\u001b[39;00m\n\u001b[1;32m    188\u001b[0m top_indices \u001b[39m=\u001b[39m np\u001b[39m.\u001b[39margpartition(similarities, \u001b[39m-\u001b[39mtopn)[\u001b[39m-\u001b[39mtopn:]\n",
      "File \u001b[0;32m~/Documents/GitHub/DIS-TextRetrieval/src/testing/../models/vector_model.py:169\u001b[0m, in \u001b[0;36mvector_model.cosine_similarity\u001b[0;34m(self, query_vector)\u001b[0m\n\u001b[1;32m    168\u001b[0m \u001b[39mdef\u001b[39;00m \u001b[39mcosine_similarity\u001b[39m(\u001b[39mself\u001b[39m, query_vector):\n\u001b[0;32m--> 169\u001b[0m     dot_products \u001b[39m=\u001b[39m np\u001b[39m.\u001b[39mdot(\u001b[39mself\u001b[39m\u001b[39m.\u001b[39mvectors, query_vector)\n\u001b[1;32m    171\u001b[0m     norm_target \u001b[39m=\u001b[39m np\u001b[39m.\u001b[39mlinalg\u001b[39m.\u001b[39mnorm(query_vector)\n\u001b[1;32m    172\u001b[0m     norm_vectors \u001b[39m=\u001b[39m \u001b[39mself\u001b[39m\u001b[39m.\u001b[39mvector_norms\n",
      "File \u001b[0;32m<__array_function__ internals>:200\u001b[0m, in \u001b[0;36mdot\u001b[0;34m(*args, **kwargs)\u001b[0m\n",
      "\u001b[0;31mKeyboardInterrupt\u001b[0m: "
     ]
    }
   ],
   "source": [
    "for query_id in tqdm(test_queries_t1.keys(), desc=\"Querying\", unit=\" queries\"):\n",
    "    query_text = test_queries_t1[query_id][\"text\"]\n",
    "    query_index = test_queries_t1[query_id][\"id\"]\n",
    "\n",
    "    query_terms = preprocessor.preprocess_query(query_text)\n",
    "    results = vm.find_similar(query_terms, topn=10)\n",
    "\n",
    "    #docIDs = [docID for docID, score in results]\n",
    "    #scores = [score for docID, score in results]\n",
    "    \n",
    "    #print(f\"{query_index}\\t{','.join(docIDs)},{scores[0]}\")"
   ]
  }
 ],
 "metadata": {
  "kernelspec": {
   "display_name": "base",
   "language": "python",
   "name": "python3"
  },
  "language_info": {
   "codemirror_mode": {
    "name": "ipython",
    "version": 3
   },
   "file_extension": ".py",
   "mimetype": "text/x-python",
   "name": "python",
   "nbconvert_exporter": "python",
   "pygments_lexer": "ipython3",
   "version": "3.11.5"
  }
 },
 "nbformat": 4,
 "nbformat_minor": 2
}
