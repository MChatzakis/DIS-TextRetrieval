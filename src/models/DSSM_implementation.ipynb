{
  "nbformat": 4,
  "nbformat_minor": 0,
  "metadata": {
    "colab": {
      "provenance": []
    },
    "kernelspec": {
      "name": "python3",
      "display_name": "Python 3"
    },
    "language_info": {
      "name": "python"
    }
  },
  "cells": [
    {
      "cell_type": "code",
      "execution_count": 1,
      "metadata": {
        "colab": {
          "base_uri": "https://localhost:8080/"
        },
        "id": "UywptFO_T21z",
        "outputId": "461072ba-07a2-46ee-83e9-f347d0c9b96f"
      },
      "outputs": [
        {
          "output_type": "stream",
          "name": "stdout",
          "text": [
            "Mounted at /content/drive\n"
          ]
        }
      ],
      "source": [
        "from google.colab import drive\n",
        "drive.mount('/content/drive')"
      ]
    },
    {
      "cell_type": "markdown",
      "source": [
        "Implementation of the **Deep Semantic Similarity Model** \\\n",
        "Based on the paper: *Learning Deep Structured Semantic Models for Web Search \\(https://posenhuang.github.io/papers/cikm2013_DSSM_fullversion.pdf) using Clickthrough Data*\n",
        "\n",
        "\n",
        "\n",
        "This code represents the implementation of a Deep Semantic Similarity Model, as described in the specified paper. The model is designed to learn structured semantic representations using query and documents pairs. The primary objective is to capture meaningful relationships and similarities within the data."
      ],
      "metadata": {
        "id": "-_QuZqzFFnBZ"
      }
    },
    {
      "cell_type": "code",
      "source": [
        "import json\n",
        "import pandas as pd\n",
        "\n",
        "import nltk\n",
        "from nltk.corpus import stopwords\n",
        "from nltk.stem import WordNetLemmatizer\n",
        "\n",
        "from collections import Counter\n",
        "\n",
        "import pandas as pd\n",
        "\n",
        "from torch.utils.data import Dataset,DataLoader\n",
        "import torch\n",
        "import torch.nn as nn\n",
        "\n",
        "import numpy as np\n",
        "from torch.utils.data import random_split\n",
        "\n",
        "from sklearn.feature_extraction.text import CountVectorizer\n",
        "from nltk.tokenize import word_tokenize\n",
        "nltk.download('punkt')\n",
        "\n",
        "from torch.utils.data import random_split\n",
        "import csv\n",
        "\n",
        "import torch\n",
        "from torch.utils.data import Dataset\n",
        "\n",
        "from torch.optim import lr_scheduler\n",
        "import re\n",
        "import collections\n",
        "import itertools\n",
        "\n",
        "from tqdm import tqdm\n",
        "from scipy.sparse import csr_matrix"
      ],
      "metadata": {
        "colab": {
          "base_uri": "https://localhost:8080/"
        },
        "id": "2Vagl0Aiajet",
        "outputId": "2a38034b-34c4-4634-db42-f20115fa8eb4"
      },
      "execution_count": 1,
      "outputs": [
        {
          "output_type": "stream",
          "name": "stderr",
          "text": [
            "[nltk_data] Downloading package punkt to /root/nltk_data...\n",
            "[nltk_data]   Package punkt is already up-to-date!\n"
          ]
        }
      ]
    },
    {
      "cell_type": "markdown",
      "source": [
        "Reading Data from Corpus and Queries JSON Files"
      ],
      "metadata": {
        "id": "2ZIAQ_VEG50p"
      }
    },
    {
      "cell_type": "code",
      "source": [
        "# Read jsonl files\n",
        "def jsonl(path):\n",
        "    data_ = []\n",
        "    with open(path, 'r') as file:\n",
        "        for line in file:\n",
        "            data = json.loads(line)\n",
        "            data_.append(data)\n",
        "    return data_"
      ],
      "metadata": {
        "id": "jrbDgUeiaiz5"
      },
      "execution_count": 2,
      "outputs": []
    },
    {
      "cell_type": "code",
      "source": [
        "corpus_path = '/content/drive/MyDrive/corpus.jsonl'\n",
        "corpus = pd.DataFrame(jsonl(corpus_path))\n",
        "corpus['text']=corpus['text'].astype(str)\n",
        "\n",
        "queries_path = '/content/drive/MyDrive/queries.jsonl'\n",
        "queries= pd.DataFrame(jsonl(queries_path))\n",
        "queries['text']=queries['text'].astype(str)"
      ],
      "metadata": {
        "id": "_aKHVCKWa1Rs"
      },
      "execution_count": 3,
      "outputs": []
    },
    {
      "cell_type": "code",
      "source": [
        "corpus.head()"
      ],
      "metadata": {
        "colab": {
          "base_uri": "https://localhost:8080/",
          "height": 206
        },
        "id": "H0C7HasMbCdj",
        "outputId": "51c0de1e-d146-4ec2-edb3-7f523b081c46"
      },
      "execution_count": 4,
      "outputs": [
        {
          "output_type": "execute_result",
          "data": {
            "text/plain": [
              "       _id                                               text\n",
              "0  1867825  After the invention of the cotton gin, cotton ...\n",
              "1   419610  Timer has separate night and day outlets, whic...\n",
              "2  4614226  The rose-buying public still encounters a wide...\n",
              "3  4108603  Map of Wendover (Aut) Airport. A detailed map ...\n",
              "4  3744854  And as the poems Reapers and Cotton Song indic..."
            ],
            "text/html": [
              "\n",
              "  <div id=\"df-dde43211-3159-4304-b8c5-5371c34c6623\" class=\"colab-df-container\">\n",
              "    <div>\n",
              "<style scoped>\n",
              "    .dataframe tbody tr th:only-of-type {\n",
              "        vertical-align: middle;\n",
              "    }\n",
              "\n",
              "    .dataframe tbody tr th {\n",
              "        vertical-align: top;\n",
              "    }\n",
              "\n",
              "    .dataframe thead th {\n",
              "        text-align: right;\n",
              "    }\n",
              "</style>\n",
              "<table border=\"1\" class=\"dataframe\">\n",
              "  <thead>\n",
              "    <tr style=\"text-align: right;\">\n",
              "      <th></th>\n",
              "      <th>_id</th>\n",
              "      <th>text</th>\n",
              "    </tr>\n",
              "  </thead>\n",
              "  <tbody>\n",
              "    <tr>\n",
              "      <th>0</th>\n",
              "      <td>1867825</td>\n",
              "      <td>After the invention of the cotton gin, cotton ...</td>\n",
              "    </tr>\n",
              "    <tr>\n",
              "      <th>1</th>\n",
              "      <td>419610</td>\n",
              "      <td>Timer has separate night and day outlets, whic...</td>\n",
              "    </tr>\n",
              "    <tr>\n",
              "      <th>2</th>\n",
              "      <td>4614226</td>\n",
              "      <td>The rose-buying public still encounters a wide...</td>\n",
              "    </tr>\n",
              "    <tr>\n",
              "      <th>3</th>\n",
              "      <td>4108603</td>\n",
              "      <td>Map of Wendover (Aut) Airport. A detailed map ...</td>\n",
              "    </tr>\n",
              "    <tr>\n",
              "      <th>4</th>\n",
              "      <td>3744854</td>\n",
              "      <td>And as the poems Reapers and Cotton Song indic...</td>\n",
              "    </tr>\n",
              "  </tbody>\n",
              "</table>\n",
              "</div>\n",
              "    <div class=\"colab-df-buttons\">\n",
              "\n",
              "  <div class=\"colab-df-container\">\n",
              "    <button class=\"colab-df-convert\" onclick=\"convertToInteractive('df-dde43211-3159-4304-b8c5-5371c34c6623')\"\n",
              "            title=\"Convert this dataframe to an interactive table.\"\n",
              "            style=\"display:none;\">\n",
              "\n",
              "  <svg xmlns=\"http://www.w3.org/2000/svg\" height=\"24px\" viewBox=\"0 -960 960 960\">\n",
              "    <path d=\"M120-120v-720h720v720H120Zm60-500h600v-160H180v160Zm220 220h160v-160H400v160Zm0 220h160v-160H400v160ZM180-400h160v-160H180v160Zm440 0h160v-160H620v160ZM180-180h160v-160H180v160Zm440 0h160v-160H620v160Z\"/>\n",
              "  </svg>\n",
              "    </button>\n",
              "\n",
              "  <style>\n",
              "    .colab-df-container {\n",
              "      display:flex;\n",
              "      gap: 12px;\n",
              "    }\n",
              "\n",
              "    .colab-df-convert {\n",
              "      background-color: #E8F0FE;\n",
              "      border: none;\n",
              "      border-radius: 50%;\n",
              "      cursor: pointer;\n",
              "      display: none;\n",
              "      fill: #1967D2;\n",
              "      height: 32px;\n",
              "      padding: 0 0 0 0;\n",
              "      width: 32px;\n",
              "    }\n",
              "\n",
              "    .colab-df-convert:hover {\n",
              "      background-color: #E2EBFA;\n",
              "      box-shadow: 0px 1px 2px rgba(60, 64, 67, 0.3), 0px 1px 3px 1px rgba(60, 64, 67, 0.15);\n",
              "      fill: #174EA6;\n",
              "    }\n",
              "\n",
              "    .colab-df-buttons div {\n",
              "      margin-bottom: 4px;\n",
              "    }\n",
              "\n",
              "    [theme=dark] .colab-df-convert {\n",
              "      background-color: #3B4455;\n",
              "      fill: #D2E3FC;\n",
              "    }\n",
              "\n",
              "    [theme=dark] .colab-df-convert:hover {\n",
              "      background-color: #434B5C;\n",
              "      box-shadow: 0px 1px 3px 1px rgba(0, 0, 0, 0.15);\n",
              "      filter: drop-shadow(0px 1px 2px rgba(0, 0, 0, 0.3));\n",
              "      fill: #FFFFFF;\n",
              "    }\n",
              "  </style>\n",
              "\n",
              "    <script>\n",
              "      const buttonEl =\n",
              "        document.querySelector('#df-dde43211-3159-4304-b8c5-5371c34c6623 button.colab-df-convert');\n",
              "      buttonEl.style.display =\n",
              "        google.colab.kernel.accessAllowed ? 'block' : 'none';\n",
              "\n",
              "      async function convertToInteractive(key) {\n",
              "        const element = document.querySelector('#df-dde43211-3159-4304-b8c5-5371c34c6623');\n",
              "        const dataTable =\n",
              "          await google.colab.kernel.invokeFunction('convertToInteractive',\n",
              "                                                    [key], {});\n",
              "        if (!dataTable) return;\n",
              "\n",
              "        const docLinkHtml = 'Like what you see? Visit the ' +\n",
              "          '<a target=\"_blank\" href=https://colab.research.google.com/notebooks/data_table.ipynb>data table notebook</a>'\n",
              "          + ' to learn more about interactive tables.';\n",
              "        element.innerHTML = '';\n",
              "        dataTable['output_type'] = 'display_data';\n",
              "        await google.colab.output.renderOutput(dataTable, element);\n",
              "        const docLink = document.createElement('div');\n",
              "        docLink.innerHTML = docLinkHtml;\n",
              "        element.appendChild(docLink);\n",
              "      }\n",
              "    </script>\n",
              "  </div>\n",
              "\n",
              "\n",
              "<div id=\"df-dd07a635-5309-4810-a355-8659d3e1672d\">\n",
              "  <button class=\"colab-df-quickchart\" onclick=\"quickchart('df-dd07a635-5309-4810-a355-8659d3e1672d')\"\n",
              "            title=\"Suggest charts.\"\n",
              "            style=\"display:none;\">\n",
              "\n",
              "<svg xmlns=\"http://www.w3.org/2000/svg\" height=\"24px\"viewBox=\"0 0 24 24\"\n",
              "     width=\"24px\">\n",
              "    <g>\n",
              "        <path d=\"M19 3H5c-1.1 0-2 .9-2 2v14c0 1.1.9 2 2 2h14c1.1 0 2-.9 2-2V5c0-1.1-.9-2-2-2zM9 17H7v-7h2v7zm4 0h-2V7h2v10zm4 0h-2v-4h2v4z\"/>\n",
              "    </g>\n",
              "</svg>\n",
              "  </button>\n",
              "\n",
              "<style>\n",
              "  .colab-df-quickchart {\n",
              "      --bg-color: #E8F0FE;\n",
              "      --fill-color: #1967D2;\n",
              "      --hover-bg-color: #E2EBFA;\n",
              "      --hover-fill-color: #174EA6;\n",
              "      --disabled-fill-color: #AAA;\n",
              "      --disabled-bg-color: #DDD;\n",
              "  }\n",
              "\n",
              "  [theme=dark] .colab-df-quickchart {\n",
              "      --bg-color: #3B4455;\n",
              "      --fill-color: #D2E3FC;\n",
              "      --hover-bg-color: #434B5C;\n",
              "      --hover-fill-color: #FFFFFF;\n",
              "      --disabled-bg-color: #3B4455;\n",
              "      --disabled-fill-color: #666;\n",
              "  }\n",
              "\n",
              "  .colab-df-quickchart {\n",
              "    background-color: var(--bg-color);\n",
              "    border: none;\n",
              "    border-radius: 50%;\n",
              "    cursor: pointer;\n",
              "    display: none;\n",
              "    fill: var(--fill-color);\n",
              "    height: 32px;\n",
              "    padding: 0;\n",
              "    width: 32px;\n",
              "  }\n",
              "\n",
              "  .colab-df-quickchart:hover {\n",
              "    background-color: var(--hover-bg-color);\n",
              "    box-shadow: 0 1px 2px rgba(60, 64, 67, 0.3), 0 1px 3px 1px rgba(60, 64, 67, 0.15);\n",
              "    fill: var(--button-hover-fill-color);\n",
              "  }\n",
              "\n",
              "  .colab-df-quickchart-complete:disabled,\n",
              "  .colab-df-quickchart-complete:disabled:hover {\n",
              "    background-color: var(--disabled-bg-color);\n",
              "    fill: var(--disabled-fill-color);\n",
              "    box-shadow: none;\n",
              "  }\n",
              "\n",
              "  .colab-df-spinner {\n",
              "    border: 2px solid var(--fill-color);\n",
              "    border-color: transparent;\n",
              "    border-bottom-color: var(--fill-color);\n",
              "    animation:\n",
              "      spin 1s steps(1) infinite;\n",
              "  }\n",
              "\n",
              "  @keyframes spin {\n",
              "    0% {\n",
              "      border-color: transparent;\n",
              "      border-bottom-color: var(--fill-color);\n",
              "      border-left-color: var(--fill-color);\n",
              "    }\n",
              "    20% {\n",
              "      border-color: transparent;\n",
              "      border-left-color: var(--fill-color);\n",
              "      border-top-color: var(--fill-color);\n",
              "    }\n",
              "    30% {\n",
              "      border-color: transparent;\n",
              "      border-left-color: var(--fill-color);\n",
              "      border-top-color: var(--fill-color);\n",
              "      border-right-color: var(--fill-color);\n",
              "    }\n",
              "    40% {\n",
              "      border-color: transparent;\n",
              "      border-right-color: var(--fill-color);\n",
              "      border-top-color: var(--fill-color);\n",
              "    }\n",
              "    60% {\n",
              "      border-color: transparent;\n",
              "      border-right-color: var(--fill-color);\n",
              "    }\n",
              "    80% {\n",
              "      border-color: transparent;\n",
              "      border-right-color: var(--fill-color);\n",
              "      border-bottom-color: var(--fill-color);\n",
              "    }\n",
              "    90% {\n",
              "      border-color: transparent;\n",
              "      border-bottom-color: var(--fill-color);\n",
              "    }\n",
              "  }\n",
              "</style>\n",
              "\n",
              "  <script>\n",
              "    async function quickchart(key) {\n",
              "      const quickchartButtonEl =\n",
              "        document.querySelector('#' + key + ' button');\n",
              "      quickchartButtonEl.disabled = true;  // To prevent multiple clicks.\n",
              "      quickchartButtonEl.classList.add('colab-df-spinner');\n",
              "      try {\n",
              "        const charts = await google.colab.kernel.invokeFunction(\n",
              "            'suggestCharts', [key], {});\n",
              "      } catch (error) {\n",
              "        console.error('Error during call to suggestCharts:', error);\n",
              "      }\n",
              "      quickchartButtonEl.classList.remove('colab-df-spinner');\n",
              "      quickchartButtonEl.classList.add('colab-df-quickchart-complete');\n",
              "    }\n",
              "    (() => {\n",
              "      let quickchartButtonEl =\n",
              "        document.querySelector('#df-dd07a635-5309-4810-a355-8659d3e1672d button');\n",
              "      quickchartButtonEl.style.display =\n",
              "        google.colab.kernel.accessAllowed ? 'block' : 'none';\n",
              "    })();\n",
              "  </script>\n",
              "</div>\n",
              "    </div>\n",
              "  </div>\n"
            ]
          },
          "metadata": {},
          "execution_count": 4
        }
      ]
    },
    {
      "cell_type": "code",
      "source": [
        "queries.head()"
      ],
      "metadata": {
        "colab": {
          "base_uri": "https://localhost:8080/",
          "height": 206
        },
        "id": "06azTaHrAB5-",
        "outputId": "f339ff1a-6480-4a51-fcf8-16e0aff351c4"
      },
      "execution_count": 5,
      "outputs": [
        {
          "output_type": "execute_result",
          "data": {
            "text/plain": [
              "       _id                                               text metadata\n",
              "0  1185869  )what was the immediate impact of the success ...       {}\n",
              "1  1185868  _________ justice is designed to repair the ha...       {}\n",
              "2   597651                          what color is amber urine       {}\n",
              "3   403613  is autoimmune hepatitis a bile acid synthesis ...       {}\n",
              "4  1183785                                     elegxo meaning       {}"
            ],
            "text/html": [
              "\n",
              "  <div id=\"df-258b04cc-5e0e-4cbb-bfc6-532572d16a8c\" class=\"colab-df-container\">\n",
              "    <div>\n",
              "<style scoped>\n",
              "    .dataframe tbody tr th:only-of-type {\n",
              "        vertical-align: middle;\n",
              "    }\n",
              "\n",
              "    .dataframe tbody tr th {\n",
              "        vertical-align: top;\n",
              "    }\n",
              "\n",
              "    .dataframe thead th {\n",
              "        text-align: right;\n",
              "    }\n",
              "</style>\n",
              "<table border=\"1\" class=\"dataframe\">\n",
              "  <thead>\n",
              "    <tr style=\"text-align: right;\">\n",
              "      <th></th>\n",
              "      <th>_id</th>\n",
              "      <th>text</th>\n",
              "      <th>metadata</th>\n",
              "    </tr>\n",
              "  </thead>\n",
              "  <tbody>\n",
              "    <tr>\n",
              "      <th>0</th>\n",
              "      <td>1185869</td>\n",
              "      <td>)what was the immediate impact of the success ...</td>\n",
              "      <td>{}</td>\n",
              "    </tr>\n",
              "    <tr>\n",
              "      <th>1</th>\n",
              "      <td>1185868</td>\n",
              "      <td>_________ justice is designed to repair the ha...</td>\n",
              "      <td>{}</td>\n",
              "    </tr>\n",
              "    <tr>\n",
              "      <th>2</th>\n",
              "      <td>597651</td>\n",
              "      <td>what color is amber urine</td>\n",
              "      <td>{}</td>\n",
              "    </tr>\n",
              "    <tr>\n",
              "      <th>3</th>\n",
              "      <td>403613</td>\n",
              "      <td>is autoimmune hepatitis a bile acid synthesis ...</td>\n",
              "      <td>{}</td>\n",
              "    </tr>\n",
              "    <tr>\n",
              "      <th>4</th>\n",
              "      <td>1183785</td>\n",
              "      <td>elegxo meaning</td>\n",
              "      <td>{}</td>\n",
              "    </tr>\n",
              "  </tbody>\n",
              "</table>\n",
              "</div>\n",
              "    <div class=\"colab-df-buttons\">\n",
              "\n",
              "  <div class=\"colab-df-container\">\n",
              "    <button class=\"colab-df-convert\" onclick=\"convertToInteractive('df-258b04cc-5e0e-4cbb-bfc6-532572d16a8c')\"\n",
              "            title=\"Convert this dataframe to an interactive table.\"\n",
              "            style=\"display:none;\">\n",
              "\n",
              "  <svg xmlns=\"http://www.w3.org/2000/svg\" height=\"24px\" viewBox=\"0 -960 960 960\">\n",
              "    <path d=\"M120-120v-720h720v720H120Zm60-500h600v-160H180v160Zm220 220h160v-160H400v160Zm0 220h160v-160H400v160ZM180-400h160v-160H180v160Zm440 0h160v-160H620v160ZM180-180h160v-160H180v160Zm440 0h160v-160H620v160Z\"/>\n",
              "  </svg>\n",
              "    </button>\n",
              "\n",
              "  <style>\n",
              "    .colab-df-container {\n",
              "      display:flex;\n",
              "      gap: 12px;\n",
              "    }\n",
              "\n",
              "    .colab-df-convert {\n",
              "      background-color: #E8F0FE;\n",
              "      border: none;\n",
              "      border-radius: 50%;\n",
              "      cursor: pointer;\n",
              "      display: none;\n",
              "      fill: #1967D2;\n",
              "      height: 32px;\n",
              "      padding: 0 0 0 0;\n",
              "      width: 32px;\n",
              "    }\n",
              "\n",
              "    .colab-df-convert:hover {\n",
              "      background-color: #E2EBFA;\n",
              "      box-shadow: 0px 1px 2px rgba(60, 64, 67, 0.3), 0px 1px 3px 1px rgba(60, 64, 67, 0.15);\n",
              "      fill: #174EA6;\n",
              "    }\n",
              "\n",
              "    .colab-df-buttons div {\n",
              "      margin-bottom: 4px;\n",
              "    }\n",
              "\n",
              "    [theme=dark] .colab-df-convert {\n",
              "      background-color: #3B4455;\n",
              "      fill: #D2E3FC;\n",
              "    }\n",
              "\n",
              "    [theme=dark] .colab-df-convert:hover {\n",
              "      background-color: #434B5C;\n",
              "      box-shadow: 0px 1px 3px 1px rgba(0, 0, 0, 0.15);\n",
              "      filter: drop-shadow(0px 1px 2px rgba(0, 0, 0, 0.3));\n",
              "      fill: #FFFFFF;\n",
              "    }\n",
              "  </style>\n",
              "\n",
              "    <script>\n",
              "      const buttonEl =\n",
              "        document.querySelector('#df-258b04cc-5e0e-4cbb-bfc6-532572d16a8c button.colab-df-convert');\n",
              "      buttonEl.style.display =\n",
              "        google.colab.kernel.accessAllowed ? 'block' : 'none';\n",
              "\n",
              "      async function convertToInteractive(key) {\n",
              "        const element = document.querySelector('#df-258b04cc-5e0e-4cbb-bfc6-532572d16a8c');\n",
              "        const dataTable =\n",
              "          await google.colab.kernel.invokeFunction('convertToInteractive',\n",
              "                                                    [key], {});\n",
              "        if (!dataTable) return;\n",
              "\n",
              "        const docLinkHtml = 'Like what you see? Visit the ' +\n",
              "          '<a target=\"_blank\" href=https://colab.research.google.com/notebooks/data_table.ipynb>data table notebook</a>'\n",
              "          + ' to learn more about interactive tables.';\n",
              "        element.innerHTML = '';\n",
              "        dataTable['output_type'] = 'display_data';\n",
              "        await google.colab.output.renderOutput(dataTable, element);\n",
              "        const docLink = document.createElement('div');\n",
              "        docLink.innerHTML = docLinkHtml;\n",
              "        element.appendChild(docLink);\n",
              "      }\n",
              "    </script>\n",
              "  </div>\n",
              "\n",
              "\n",
              "<div id=\"df-60c35dbb-773e-4e7b-bac0-3dce97083fcd\">\n",
              "  <button class=\"colab-df-quickchart\" onclick=\"quickchart('df-60c35dbb-773e-4e7b-bac0-3dce97083fcd')\"\n",
              "            title=\"Suggest charts.\"\n",
              "            style=\"display:none;\">\n",
              "\n",
              "<svg xmlns=\"http://www.w3.org/2000/svg\" height=\"24px\"viewBox=\"0 0 24 24\"\n",
              "     width=\"24px\">\n",
              "    <g>\n",
              "        <path d=\"M19 3H5c-1.1 0-2 .9-2 2v14c0 1.1.9 2 2 2h14c1.1 0 2-.9 2-2V5c0-1.1-.9-2-2-2zM9 17H7v-7h2v7zm4 0h-2V7h2v10zm4 0h-2v-4h2v4z\"/>\n",
              "    </g>\n",
              "</svg>\n",
              "  </button>\n",
              "\n",
              "<style>\n",
              "  .colab-df-quickchart {\n",
              "      --bg-color: #E8F0FE;\n",
              "      --fill-color: #1967D2;\n",
              "      --hover-bg-color: #E2EBFA;\n",
              "      --hover-fill-color: #174EA6;\n",
              "      --disabled-fill-color: #AAA;\n",
              "      --disabled-bg-color: #DDD;\n",
              "  }\n",
              "\n",
              "  [theme=dark] .colab-df-quickchart {\n",
              "      --bg-color: #3B4455;\n",
              "      --fill-color: #D2E3FC;\n",
              "      --hover-bg-color: #434B5C;\n",
              "      --hover-fill-color: #FFFFFF;\n",
              "      --disabled-bg-color: #3B4455;\n",
              "      --disabled-fill-color: #666;\n",
              "  }\n",
              "\n",
              "  .colab-df-quickchart {\n",
              "    background-color: var(--bg-color);\n",
              "    border: none;\n",
              "    border-radius: 50%;\n",
              "    cursor: pointer;\n",
              "    display: none;\n",
              "    fill: var(--fill-color);\n",
              "    height: 32px;\n",
              "    padding: 0;\n",
              "    width: 32px;\n",
              "  }\n",
              "\n",
              "  .colab-df-quickchart:hover {\n",
              "    background-color: var(--hover-bg-color);\n",
              "    box-shadow: 0 1px 2px rgba(60, 64, 67, 0.3), 0 1px 3px 1px rgba(60, 64, 67, 0.15);\n",
              "    fill: var(--button-hover-fill-color);\n",
              "  }\n",
              "\n",
              "  .colab-df-quickchart-complete:disabled,\n",
              "  .colab-df-quickchart-complete:disabled:hover {\n",
              "    background-color: var(--disabled-bg-color);\n",
              "    fill: var(--disabled-fill-color);\n",
              "    box-shadow: none;\n",
              "  }\n",
              "\n",
              "  .colab-df-spinner {\n",
              "    border: 2px solid var(--fill-color);\n",
              "    border-color: transparent;\n",
              "    border-bottom-color: var(--fill-color);\n",
              "    animation:\n",
              "      spin 1s steps(1) infinite;\n",
              "  }\n",
              "\n",
              "  @keyframes spin {\n",
              "    0% {\n",
              "      border-color: transparent;\n",
              "      border-bottom-color: var(--fill-color);\n",
              "      border-left-color: var(--fill-color);\n",
              "    }\n",
              "    20% {\n",
              "      border-color: transparent;\n",
              "      border-left-color: var(--fill-color);\n",
              "      border-top-color: var(--fill-color);\n",
              "    }\n",
              "    30% {\n",
              "      border-color: transparent;\n",
              "      border-left-color: var(--fill-color);\n",
              "      border-top-color: var(--fill-color);\n",
              "      border-right-color: var(--fill-color);\n",
              "    }\n",
              "    40% {\n",
              "      border-color: transparent;\n",
              "      border-right-color: var(--fill-color);\n",
              "      border-top-color: var(--fill-color);\n",
              "    }\n",
              "    60% {\n",
              "      border-color: transparent;\n",
              "      border-right-color: var(--fill-color);\n",
              "    }\n",
              "    80% {\n",
              "      border-color: transparent;\n",
              "      border-right-color: var(--fill-color);\n",
              "      border-bottom-color: var(--fill-color);\n",
              "    }\n",
              "    90% {\n",
              "      border-color: transparent;\n",
              "      border-bottom-color: var(--fill-color);\n",
              "    }\n",
              "  }\n",
              "</style>\n",
              "\n",
              "  <script>\n",
              "    async function quickchart(key) {\n",
              "      const quickchartButtonEl =\n",
              "        document.querySelector('#' + key + ' button');\n",
              "      quickchartButtonEl.disabled = true;  // To prevent multiple clicks.\n",
              "      quickchartButtonEl.classList.add('colab-df-spinner');\n",
              "      try {\n",
              "        const charts = await google.colab.kernel.invokeFunction(\n",
              "            'suggestCharts', [key], {});\n",
              "      } catch (error) {\n",
              "        console.error('Error during call to suggestCharts:', error);\n",
              "      }\n",
              "      quickchartButtonEl.classList.remove('colab-df-spinner');\n",
              "      quickchartButtonEl.classList.add('colab-df-quickchart-complete');\n",
              "    }\n",
              "    (() => {\n",
              "      let quickchartButtonEl =\n",
              "        document.querySelector('#df-60c35dbb-773e-4e7b-bac0-3dce97083fcd button');\n",
              "      quickchartButtonEl.style.display =\n",
              "        google.colab.kernel.accessAllowed ? 'block' : 'none';\n",
              "    })();\n",
              "  </script>\n",
              "</div>\n",
              "    </div>\n",
              "  </div>\n"
            ]
          },
          "metadata": {},
          "execution_count": 5
        }
      ]
    },
    {
      "cell_type": "markdown",
      "source": [
        "Text Preprocessing using NLPurifier"
      ],
      "metadata": {
        "id": "EEUle-6HbK7S"
      }
    },
    {
      "cell_type": "code",
      "source": [
        "#pip install data-purifier"
      ],
      "metadata": {
        "id": "QJWTT3BEfi3v"
      },
      "execution_count": null,
      "outputs": []
    },
    {
      "cell_type": "code",
      "source": [
        "#corpus_nl = Nlpurifier(corpus, \"text\")\n",
        "#do not perform\n",
        "#remove_html_tags(~80 sec)\n",
        "#get_word_count(~40 sec)\n",
        "#remove_emoticons(~)\n",
        "#stemming ~600 sec"
      ],
      "metadata": {
        "id": "jREHt8UEgaO5"
      },
      "execution_count": null,
      "outputs": []
    },
    {
      "cell_type": "code",
      "source": [
        "#corpus_nl.df.head()\n",
        "#corpus_nl.df['text']=corpus_nl.df['text'].apply(lambda x :x.split())"
      ],
      "metadata": {
        "id": "C6qchELW1xuO"
      },
      "execution_count": null,
      "outputs": []
    },
    {
      "cell_type": "code",
      "source": [
        "#queries_nl = Nlpurifier(queries, \"text\")\n",
        "#do not perform\n",
        "#remove_html_tags(~80 sec)\n",
        "#get_word_count(~40 sec)\n",
        "#remove_emoticons(~)\n",
        "#stemming ~600 sec"
      ],
      "metadata": {
        "id": "7lWdAKHDe3TE"
      },
      "execution_count": null,
      "outputs": []
    },
    {
      "cell_type": "code",
      "source": [
        "#queries_nl.df.head()\n",
        "#queries_nl.df['text']=queries_nl.df['text'].apply(lambda x :x.split())"
      ],
      "metadata": {
        "id": "pmKe9Dlkqz5_"
      },
      "execution_count": null,
      "outputs": []
    },
    {
      "cell_type": "markdown",
      "source": [
        "**Extracting Text Pairs: Retrieving Corresponding Text from Query-Document Pairs IDs in Training Data**"
      ],
      "metadata": {
        "id": "m_p8tNsXHs06"
      }
    },
    {
      "cell_type": "code",
      "source": [
        "def retrieve_pairs(corpus, queries, training_path):\n",
        "\n",
        "    # Create dictionaries for faster lookup\n",
        "    query_dict = dict(zip(queries['_id'], queries['text']))\n",
        "    corpus_dict = dict(zip(corpus['_id'], corpus['text']))\n",
        "\n",
        "    lines=0\n",
        "    with open(training_path, 'r', newline='', encoding='utf-8') as tsvfile:\n",
        "\n",
        "      reader = csv.DictReader(tsvfile, delimiter='\\t')\n",
        "      questions = []\n",
        "      documents = []\n",
        "      for row in reader:\n",
        "\n",
        "          query_id = row['query-id']\n",
        "          corpus_id = row['corpus-id']\n",
        "          #lines+=1\n",
        "\n",
        "          questions.append(query_dict[query_id])\n",
        "          documents.append(corpus_dict[corpus_id])\n",
        "          #if lines==500: #how to scale it\n",
        "          #  break\n",
        "\n",
        "    return questions, documents\n",
        "\n",
        "tsv_file_path = '/content/drive/MyDrive/task1_train.tsv'\n",
        "questions,documents=retrieve_pairs(corpus,queries,tsv_file_path)"
      ],
      "metadata": {
        "id": "q1KqIHVeKaLf"
      },
      "execution_count": 6,
      "outputs": []
    },
    {
      "cell_type": "code",
      "source": [
        "len(documents)"
      ],
      "metadata": {
        "colab": {
          "base_uri": "https://localhost:8080/"
        },
        "id": "MPQOb-FLGj7B",
        "outputId": "c602c7ab-1c46-42e9-e01b-38216e1fe8ac"
      },
      "execution_count": 8,
      "outputs": [
        {
          "output_type": "execute_result",
          "data": {
            "text/plain": [
              "532751"
            ]
          },
          "metadata": {},
          "execution_count": 8
        }
      ]
    },
    {
      "cell_type": "markdown",
      "source": [
        "**Vectorizing Text: Applying CountVectorizer on Question-Document Pairs for Feature Extraction**\n"
      ],
      "metadata": {
        "id": "UJak_93KIO0B"
      }
    },
    {
      "cell_type": "code",
      "source": [
        "#Document-term sparse matrix\n",
        "#vectorizer = CountVectorizer()\n",
        "#vectorizer.fit(questions + documents)\n",
        "\n",
        "#questions = vectorizer.transform(questions).toarray()     #queries-term sparse matrix\n",
        "#documents = vectorizer.transform(documents).toarray()     #document-term sparse matrix"
      ],
      "metadata": {
        "id": "OHI8Abf0sYdU"
      },
      "execution_count": 7,
      "outputs": []
    },
    {
      "cell_type": "code",
      "source": [
        "#Faster approach\n",
        "#questions_sparse = questions.tocoo()\n",
        "#indices = torch.LongTensor([questions_sparse.row, questions_sparse.col])\n",
        "#values = torch.FloatTensor(questions_sparse.data)\n",
        "#shape = torch.Size(questions_sparse.shape)\n",
        "\n",
        "#questions_tensor = torch.sparse.FloatTensor(indices, values, shape) #[training_dataset_len,vocab_size]\n",
        "\n",
        "#documents_sparse = documents .tocoo()\n",
        "#indices = torch.LongTensor([documents_sparse.row, documents_sparse.col])\n",
        "#values = torch.FloatTensor(documents_sparse.data)\n",
        "#shape = torch.Size(documents_sparse.shape)\n",
        "\n",
        "#documents_tensor = torch.sparse.FloatTensor(indices, values, shape) #[training_dataset_len,vocab_size]\\\n"
      ],
      "metadata": {
        "id": "E8lHmAWiMd1C"
      },
      "execution_count": null,
      "outputs": []
    },
    {
      "cell_type": "markdown",
      "source": [
        "**Word Hashing**"
      ],
      "metadata": {
        "id": "dGhD8wgdiitt"
      }
    },
    {
      "cell_type": "code",
      "source": [
        "def gen_trigrams():\n",
        "\n",
        "  \"\"\"\n",
        "      Generates all trigrams for characters from `trigram_chars`\n",
        "  \"\"\"\n",
        "\n",
        "  trigram_chars=\"0123456789abcdefghijklmnopqrstuvwxyz\"\n",
        "  t3 = [''.join(x) for x in itertools.product(trigram_chars,repeat=3)] #len(words)>=3\n",
        "  t2_start = ['#'+''.join(x) for x in itertools.product(trigram_chars,repeat=2)] #len(words)==2\n",
        "  t2_end = [''.join(x)+'#' for x in itertools.product(trigram_chars,repeat=2)] #len(words)==2\n",
        "  t1 = ['#'+''.join(x)+'#' for x in itertools.product(trigram_chars)] #len(words)==1\n",
        "  trigrams = t3+t2_start+t2_end+t1\n",
        "  vocab_size=len(trigrams)\n",
        "  trigram_map=dict(zip(trigrams,range(0,vocab_size))) # trigram to index mapping, indices starting from 1\n",
        "  return trigram_map"
      ],
      "metadata": {
        "id": "2uy0VAKnkxH4"
      },
      "execution_count": 9,
      "outputs": []
    },
    {
      "cell_type": "code",
      "source": [
        "\n",
        "def sentences_to_bag_of_trigrams(sentences):\n",
        "  \"\"\"\n",
        "      Converts a sentence to bag-of-trigrams\n",
        "      `sentences`: list of strings\n",
        "      `trigram_BOW`: return value, (len(sentences),len(trigram_map)) size array\n",
        "  \"\"\"\n",
        "  trigram_map=gen_trigrams()\n",
        "  #trigram_BOW=dok_matrix((len(sentences),len(trigram_map))) # one row for each sentence\n",
        "  num_sentences = len(sentences)\n",
        "  num_trigrams = len(trigram_map)\n",
        "  rows = []\n",
        "  cols = []\n",
        "  data = []\n",
        "\n",
        "  with tqdm(total=num_sentences, desc=\"Processing Sentences\", unit=\"sentence\") as pbar:\n",
        "\n",
        "    for j,sent in enumerate(sentences):\n",
        "      sent=re.sub(r\"(\\s)\\s+\", r\"\\1\", sent) # reduce multiple whitespaces to single whitespace\n",
        "      words=sent.split(' ')\n",
        "\n",
        "      indices=collections.defaultdict(int)\n",
        "\n",
        "      for word in words:\n",
        "        word='#'+word+'#'\n",
        "        for k in range(len(word)-2):\n",
        "          trig=word[k:k+3]\n",
        "          idx=trigram_map.get(trig, 0)\n",
        "          indices[idx]=indices[idx]+1\n",
        "\n",
        "      #for key,val in indices.items():\n",
        "      #  trigram_BOW[j,key]=val\n",
        "\n",
        "      for key, val in indices.items():\n",
        "        rows.append(j)\n",
        "        cols.append(key)\n",
        "        data.append(val)\n",
        "      pbar.update(1)\n",
        "\n",
        "  trigram_BOW = csr_matrix((data, (rows, cols)), shape=(num_sentences, num_trigrams))\n",
        "  return trigram_BOW"
      ],
      "metadata": {
        "id": "hdFyxQqSlKwu"
      },
      "execution_count": 17,
      "outputs": []
    },
    {
      "cell_type": "code",
      "source": [
        "questions_hashing = sentences_to_bag_of_trigrams(questions)\n"
      ],
      "metadata": {
        "colab": {
          "base_uri": "https://localhost:8080/"
        },
        "id": "SDofnYKLlkMx",
        "outputId": "5fd8c8ee-0630-4ecf-cc86-350782e5061d"
      },
      "execution_count": 18,
      "outputs": [
        {
          "output_type": "stream",
          "name": "stderr",
          "text": [
            "Processing Sentences: 100%|██████████| 532751/532751 [00:18<00:00, 29424.30sentence/s]\n"
          ]
        }
      ]
    },
    {
      "cell_type": "code",
      "source": [
        "document_hashing = sentences_to_bag_of_trigrams(documents)"
      ],
      "metadata": {
        "colab": {
          "base_uri": "https://localhost:8080/"
        },
        "id": "WT0otxZFI3SK",
        "outputId": "8fbe22c8-fced-474f-9b14-e0c4af2e7044"
      },
      "execution_count": 19,
      "outputs": [
        {
          "output_type": "stream",
          "name": "stderr",
          "text": [
            "Processing Sentences: 100%|██████████| 532751/532751 [02:36<00:00, 3407.79sentence/s]\n"
          ]
        }
      ]
    },
    {
      "cell_type": "markdown",
      "source": [
        "***Randomly select either 4 negative documents or 4 non-relevant documents from the corpus, as the paper suggests***"
      ],
      "metadata": {
        "id": "C7rF1RJyu3g7"
      }
    },
    {
      "cell_type": "code",
      "source": [
        "questions_,rel_doc,n_rel_doc = [], [], []\n",
        "with tqdm(total=questions_hashing.shape[0], desc=\"Processing Queries and Documents\", unit=\"pair\") as pbar:\n",
        "\n",
        "  for query,doc in zip(questions_hashing,document_hashing):\n",
        "    #non_rel_docs = [document_hashing[idx] for idx in np.random.randint(len(document_hashing),size=4)]\n",
        "\n",
        "    non_rel_docs = [document_hashing[idx] for idx in np.random.randint(document_hashing.shape[0],size=4)]\n",
        "    questions_.append(query)\n",
        "    rel_doc.append(doc)\n",
        "    n_rel_doc.append(non_rel_docs)\n",
        "    pbar.update(1)"
      ],
      "metadata": {
        "colab": {
          "base_uri": "https://localhost:8080/"
        },
        "id": "J7kLLyr_JKqS",
        "outputId": "1c582030-ec46-4b20-dd7b-4dbff64dc5e6"
      },
      "execution_count": 26,
      "outputs": [
        {
          "output_type": "stream",
          "name": "stderr",
          "text": [
            "Processing Queries and Documents: 100%|██████████| 532751/532751 [05:45<00:00, 1542.98pair/s]\n"
          ]
        }
      ]
    },
    {
      "cell_type": "markdown",
      "source": [
        "**Defining DSSM Dataset: Creating a Custom Class to Properly Retrieve and Organize Data for Deep Semantic Similarity Model Training**"
      ],
      "metadata": {
        "id": "U6z_Pk4mI9vb"
      }
    },
    {
      "cell_type": "code",
      "source": [
        "class DSSM_Dataset(Dataset):\n",
        "  def __init__(self,query,rel_doc,n_rel_doc):\n",
        "\n",
        "    self.query = query\n",
        "    self.rel_doc = rel_doc\n",
        "    self.n_rel_doc = n_rel_doc\n",
        "\n",
        "  def __len__(self):\n",
        "    return len(self.query)\n",
        "\n",
        "  def __getitem__(self,idx):\n",
        "    query     = torch.FloatTensor(np.array(self.query[idx].toarray(),dtype=np.float32))\n",
        "    rel_doc   = torch.FloatTensor(np.array(self.rel_doc[idx].toarray(), dtype=np.float32))\n",
        "    #n_rel_doc = torch.FloatTensor(np.array(self.n_rel_doc[idx], dtype=np.float32))\n",
        "    n_rel_doc_dense = [np.array(mat.toarray(), dtype=np.float32) for mat in self.n_rel_doc[idx]]\n",
        "    n_rel_doc_tensor = torch.stack([torch.FloatTensor(mat) for mat in n_rel_doc_dense]).squeeze(1)\n",
        "    return query,rel_doc,n_rel_doc_tensor\n"
      ],
      "metadata": {
        "id": "YSupbigjET5j"
      },
      "execution_count": 88,
      "outputs": []
    },
    {
      "cell_type": "markdown",
      "source": [
        "Data Splitting and DataLoader Setup: \\\n",
        "Partitioning the Dataset and Configuring DataLoaders for Training and Evaluation with Batch Size"
      ],
      "metadata": {
        "id": "Zu-BU7_xJabQ"
      }
    },
    {
      "cell_type": "code",
      "source": [
        "TRAIN_SIZE = 0.8\n",
        "BATCH_SIZE = 32\n",
        "total = len(questions_)\n",
        "train_size = int(total * TRAIN_SIZE)\n",
        "eval_size = total - train_size\n",
        "\n",
        "dssm_dataset = DSSM_Dataset(questions_, rel_doc, n_rel_doc)"
      ],
      "metadata": {
        "id": "pF1cClOayVHq"
      },
      "execution_count": 89,
      "outputs": []
    },
    {
      "cell_type": "code",
      "source": [
        "train_dataset, eval_dataset = random_split(\n",
        "    dataset=dssm_dataset,\n",
        "    lengths=[train_size, eval_size],\n",
        "    generator=torch.Generator().manual_seed(0)\n",
        ")\n",
        "\n",
        "train_iterator = DataLoader(train_dataset, batch_size=BATCH_SIZE, shuffle=True)\n",
        "eval_iterator = DataLoader(eval_dataset, batch_size=BATCH_SIZE, shuffle=True)\n",
        "batch_num = len(train_iterator)"
      ],
      "metadata": {
        "id": "_u7VFeVHzmKk"
      },
      "execution_count": 92,
      "outputs": []
    },
    {
      "cell_type": "markdown",
      "source": [
        "####                                          **DSSM Model Siamese neural network**"
      ],
      "metadata": {
        "id": "Z5_muTHUKs5X"
      }
    },
    {
      "cell_type": "markdown",
      "source": [
        "\n",
        "Model Definition: Creating the DSSM Model for Semantic Similarity\n",
        "\n",
        "This code defines the DSSM model, which consists of two branches for processing queries and documents. The model uses a multilayer perceptron (MLP) architecture with sigmoid activation, dropout layers, and Tanh activation for generating 128-dimensional embeddings. The cosine similarity is employed to measure relevance, and the softmax function is applied to obtain posterior probabilities for relevant documents.\n",
        "\n",
        "The DSSM_Model class is instantiated with parameters for input features, gamma (optional), and device. The forward method takes query (q), positive document (p), and a list of negative samples (ns) as input, returning the softmax probabilities for relevant documents"
      ],
      "metadata": {
        "id": "R6PoyBZCFQA5"
      }
    },
    {
      "cell_type": "markdown",
      "source": [
        "![1.png](data:image/png;base64,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)"
      ],
      "metadata": {
        "id": "BkJXZgqiJutC"
      }
    },
    {
      "cell_type": "code",
      "source": [],
      "metadata": {
        "id": "AO2WolbiLykO"
      },
      "execution_count": null,
      "outputs": []
    },
    {
      "cell_type": "code",
      "source": [
        "#define the DSSM model\n",
        "import torch.nn.functional as F\n",
        "\n",
        "class DSSM_Model(nn.Module):\n",
        "\n",
        "  def __init__(self, in_features, gamma=None, device='cpu'):\n",
        "\n",
        "    super(DSSM_Model, self).__init__()\n",
        "\n",
        "    self.in_features = in_features\n",
        "    self.device = device\n",
        "    self.gamma=gamma\n",
        "\n",
        "    # Create MLP layers\n",
        "    self.query_ = nn.Sequential(\n",
        "        nn.Linear(self.in_features, 300),\n",
        "        nn.Linear(300, 300),\n",
        "        nn.Sigmoid(),\n",
        "        nn.Dropout(0.1),\n",
        "        nn.Linear(300, 300),\n",
        "        nn.Sigmoid(),\n",
        "        nn.Dropout(0.1),\n",
        "        nn.Linear(300, 128),\n",
        "        nn.Tanh()\n",
        "    )\n",
        "\n",
        "    self.doc_ = nn.Sequential(\n",
        "        nn.Linear(self.in_features, 300),\n",
        "        nn.Linear(300, 300),\n",
        "        nn.Sigmoid(),\n",
        "        nn.Dropout(0.1),\n",
        "        nn.Linear(300, 300),\n",
        "        nn.Sigmoid(),\n",
        "        nn.Dropout(0.1),\n",
        "        nn.Linear(300, 128),\n",
        "        nn.Tanh()\n",
        "    )\n",
        "\n",
        "    self.to(self.device)\n",
        "\n",
        "  def forward(self, query, relevant, non_rel):\n",
        "\n",
        "    query = F.normalize(query, p=2, dim=-1)\n",
        "    relevant = F.normalize(relevant, p=2, dim=-1)\n",
        "    non_rel = F.normalize(non_rel, p=2, dim=-1)\n",
        "\n",
        "    out_query = self.query_(query)                                #[batch_size,out_features/128]\n",
        "    out_relevant = self.doc_(relevant)                                  #[batch_size,out_features/128]\n",
        "    out_non_rel = [self.doc_(n) for n in non_rel.permute(1, 0, 2)]  # list of [batch_size,out_features/128]\n",
        "\n",
        "    # Relevance measured by cosine similarity\n",
        "    cos_query_rel = F.cosine_similarity(out_query, out_relevant, dim=1).unsqueeze(1)\n",
        "    cos_query_non_rel = [F.cosine_similarity(out_query, out_n, dim=1).unsqueeze(1) for out_n in out_non_rel]\n",
        "\n",
        "    cos_qrn = [cos_query_rel, *cos_query_non_rel]                     #list of cosine similarities between the query and the positive + 4 negatives examples for the entire batch\n",
        "    cos_uni = torch.cat(cos_qrn, 1)                  # tensor[batch_size, 5(non_rel+rel)]\n",
        "    # posterior probability computed by softmax\n",
        "    softmax_qp = F.softmax(cos_uni, dim=1)[:, 0]     #(batch_size) the softmax probabilities only for the relevant documents.\n",
        "\n",
        "    return softmax_qp"
      ],
      "metadata": {
        "id": "ZNyvthsQFPeY"
      },
      "execution_count": 107,
      "outputs": []
    },
    {
      "cell_type": "markdown",
      "source": [
        "**Loss function**\n"
      ],
      "metadata": {
        "id": "VplC4p-kJ1Od"
      }
    },
    {
      "cell_type": "markdown",
      "source": [
        "Loss Function Definition: Custom Loss for Training the DSSM Model \\\n",
        "The loss function $\\mathcal{L}$ is defined as:"
      ],
      "metadata": {
        "id": "gG1t4TNAMyJ9"
      }
    },
    {
      "cell_type": "markdown",
      "source": [
        "\n",
        "$ \\mathcal{L} = -\\log \\left( \\frac{\\exp(\\text{cosine}(\\mathbf{q}, \\mathbf{p}))}{\\sum_{\\mathbf{n} \\in \\mathcal{N}} \\exp(\\text{cosine}(\\mathbf{q}, \\mathbf{n}))} \\right)$\n",
        "\n",
        "where:\n",
        "- $\\mathbf{q}$ represents the query,\n",
        "- $\\mathbf{p}$ is the positive document, and\n",
        "- $\\mathbf{n}$ is a negative sample from the set $\\mathcal{D}$ of all documents.\n",
        "\n",
        "The objective of the loss function is to enhance the likelihood of clicked documents given queries in the training process. Consequently, we will also consider the posterior probabilities related to positive pairs.\n",
        "\n"
      ],
      "metadata": {
        "id": "bKav0YmIMJsQ"
      }
    },
    {
      "cell_type": "code",
      "source": [
        "def criterion(softmax_probabilities):\n",
        "  return -torch.log(torch.prod(softmax_probabilities)) #-torch.sum(torch.log(softmax_probabilities))"
      ],
      "metadata": {
        "id": "AoQatI2SXlq6"
      },
      "execution_count": 108,
      "outputs": []
    },
    {
      "cell_type": "markdown",
      "source": [
        "**Training Loop for Deep Semantic Similarity Model: Updating Model Parameters Across Epochs**"
      ],
      "metadata": {
        "id": "98x6lTOu15yO"
      }
    },
    {
      "cell_type": "code",
      "source": [
        "\n",
        "def training_loop(model,epochs,train_,eval_,optimizer,scheduler,device='cpu'):\n",
        "\n",
        "  for epoch in range(epochs):\n",
        "\n",
        "    model.train()\n",
        "    batch_idx = 0\n",
        "    train_loss = []\n",
        "\n",
        "    for query, relevant, non_relevant in train_:\n",
        "\n",
        "      query = query.to(device)\n",
        "      relevant = relevant.to(device)\n",
        "      non_relevant = non_relevant.to(device)\n",
        "\n",
        "      optimizer.zero_grad()\n",
        "\n",
        "      softmax_qp = model.forward(query,relevant, non_relevant)\n",
        "\n",
        "      loss = criterion(softmax_qp)\n",
        "\n",
        "      loss.backward()\n",
        "\n",
        "      optimizer.step()\n",
        "\n",
        "      train_loss.append(loss.item())\n",
        "      batch_idx += 1\n",
        "      if batch_idx % 5 == 0:\n",
        "        avg_train_loss = np.average(train_loss[-5:])\n",
        "        print(f\"Epoch {epoch + 1}/{epochs}, Batch {batch_idx}/{len(train_)} - Training Loss: {avg_train_loss:.5f}\")\n",
        "\n",
        "    average_training_loss= np.average(train_loss)\n",
        "    print(f\"Epoch {epoch+1}/{epoch} - Training Loop : {average_training_loss:.5f}\")\n",
        "\n",
        "    model.eval()\n",
        "\n",
        "    eval_loss = []\n",
        "\n",
        "    for query, relevant, non_relevant in eval_:\n",
        "\n",
        "      query = query.to(device)\n",
        "      relevant = relevant.to(device)\n",
        "      non_relevant = non_relevant.to(device)\n",
        "\n",
        "      softmax_qp = model.forward(query, relevant, non_relevant)\n",
        "      loss = criterion(softmax_qp)\n",
        "      eval_loss.append(loss.item())\n",
        "    avg_eval_loss = np.average(eval_loss)\n",
        "    print(f\"Epoch {epoch+1}/{epoch} - Validation Loop: {avg_eval_loss:.5f}\")\n",
        "\n",
        "\n",
        "#define input_Features size\n",
        "#in_features = len(vectorizer.get_feature_names_out()) #vocab_size\n",
        "in_features = len(gen_trigrams())\n",
        "model = DSSM_Model(in_features) #create the model\n",
        "\n",
        "#initialize the wights and bias\n",
        "weight_p, bias_p = [], []\n",
        "for param_name,param in model.named_parameters():\n",
        "  if 'bias' in param_name:\n",
        "    bias_p += [param]\n",
        "  else:\n",
        "    weight_p += [param]"
      ],
      "metadata": {
        "id": "RD1fS87Bd8Zl"
      },
      "execution_count": null,
      "outputs": []
    },
    {
      "cell_type": "markdown",
      "source": [
        "Model Training with Custom Optimizer: Configuring Learning Rate, Weight Decay, and Scheduler for a Deep Semantic Similarity Model"
      ],
      "metadata": {
        "id": "60UHoE-UPSgG"
      }
    },
    {
      "cell_type": "code",
      "source": [
        "learning_rate = 0.01\n",
        "\n",
        "optimizer = torch.optim.Adam([{'params': weight_p, 'weight_decay': 0},\n",
        "                                      {'params': bias_p, 'weight_decay': 0}], lr= learning_rate)\n",
        "scheduler = lr_scheduler.StepLR(optimizer, step_size=5, gamma=1)"
      ],
      "metadata": {
        "id": "lHPiNVvyd4vQ"
      },
      "execution_count": 101,
      "outputs": []
    },
    {
      "cell_type": "code",
      "source": [
        "EPOCHS = 3\n",
        "training_loop(model,EPOCHS,train_iterator,eval_iterator,optimizer,scheduler)"
      ],
      "metadata": {
        "id": "m5YCQVWa4fjG"
      },
      "execution_count": null,
      "outputs": []
    },
    {
      "cell_type": "markdown",
      "source": [
        "**Model Testing: Evaluating the Performance of the Trained Deep Semantic Similarity Model on Test Data**"
      ],
      "metadata": {
        "id": "9Z6UZyoQIxuf"
      }
    },
    {
      "cell_type": "code",
      "source": [
        "def retrieve_testing_questions(queries, testing_path):\n",
        "\n",
        "    # Create dictionaries for faster lookup\n",
        "    query_dict = dict(zip(queries['_id'], queries['text']))\n",
        "\n",
        "    with open(testing_path, 'r', newline='', encoding='utf-8') as tsvfile:\n",
        "\n",
        "      reader = csv.DictReader(tsvfile, delimiter='\\t')\n",
        "      questions = []\n",
        "      for row in reader:\n",
        "          query_id = row['query-id']\n",
        "          questions.append(query_dict[query_id])\n",
        "    return questions\n",
        "\n",
        "tsv_testing_path = '/content/drive/MyDrive/task1_test.tsv'\n",
        "testing_questions = retrieve_testing_questions(queries,tsv_testing_path)"
      ],
      "metadata": {
        "id": "iO5_pL-VzJhb"
      },
      "execution_count": 30,
      "outputs": []
    },
    {
      "cell_type": "code",
      "source": [
        "#Just basic function not optimized\n",
        "def encode(model,text,device='cpu'):\n",
        "\n",
        "  model.eval()\n",
        "  vectors = sentences_to_bag_of_trigrams(text)\n",
        "  with torch.no_grad():\n",
        "    vectors = torch.FloatTensor(vectors).to(device)\n",
        "  vectors = model.query_(vectors).tolist()\n",
        "  return vectors"
      ],
      "metadata": {
        "id": "BhiOSHL7AJmf"
      },
      "execution_count": 40,
      "outputs": []
    },
    {
      "cell_type": "code",
      "source": [
        "from sklearn.metrics.pairwise import cosine_similarity\n",
        "\n",
        "document_1 = 'Injunction Law and Legal Definition. Injunctive relief consists of a court order called an injunction, requiring an individual to do or not do a specific action. It is an extraordinary remedy that courts utilize in special cases where preservation of the status quo or taking some specific action is required in order to prevent possible injustice.'\n",
        "\n",
        "vectors = encode(model,[testing_questions[0], document_1])\n",
        "score = cosine_similarity([vectors[0]], [vectors[1]])\n",
        "print('score:', score[0][0])\n"
      ],
      "metadata": {
        "colab": {
          "base_uri": "https://localhost:8080/"
        },
        "id": "-JjMAYbV2AWV",
        "outputId": "73595e30-cea1-45ca-ada1-a4acd2a8d450"
      },
      "execution_count": 41,
      "outputs": [
        {
          "output_type": "stream",
          "name": "stdout",
          "text": [
            "score: 0.999999932349992\n"
          ]
        }
      ]
    },
    {
      "cell_type": "code",
      "source": [],
      "metadata": {
        "id": "J0U35Wwn37A_"
      },
      "execution_count": null,
      "outputs": []
    },
    {
      "cell_type": "code",
      "source": [],
      "metadata": {
        "id": "z3mAFGMa37Ei"
      },
      "execution_count": null,
      "outputs": []
    },
    {
      "cell_type": "markdown",
      "source": [
        "PREVIOUS IMPLEMENTATIONS"
      ],
      "metadata": {
        "id": "QFCD_VnDBp5A"
      }
    },
    {
      "cell_type": "code",
      "source": [
        "#import the stopword list from the spacy library\n",
        "#Counter appliation in order to improve the running\n",
        "\n",
        "#sp = spacy.load('en_core_web_sm')\n",
        "#spacy_stopwords = sp.Defaults.stop_words\n",
        "#stopwords_dict = Counter(spacy_stopwords)\n",
        "#lemmatizer =WordNetLemmatizer()\n",
        "\n",
        "#spacy_stopwords = list(sp.Defaults.stop_words)\n",
        "#stop_words = spacy_stopwords + ['im', 'dont','dunno', 'cant',\"'s\", 'u', 'x','user','url','rt','lol', '<user>', '<url>']"
      ],
      "metadata": {
        "id": "QZVaWk0Iohcw"
      },
      "execution_count": null,
      "outputs": []
    },
    {
      "cell_type": "code",
      "source": [
        "\n",
        "'''\n",
        "#cleaning \"pipeline\"\n",
        "def clean_data(text, stopwords, lemmatization):\n",
        "\n",
        "      #perform casefolding\n",
        "      text =text.casefold()\n",
        "      #remove different tags for instance \"<user>,<url>\"\n",
        "      text = re.sub('<[^<]+?>','', text)\n",
        "      #remove digits\n",
        "      text = ' '.join(text_ for text_ in text.split() if not text_.isdigit())\n",
        "      #remove punctuations\n",
        "      text = ' '.join(text_ for text_ in text.split() if text_ not in string.punctuation)\n",
        "      #remove the tokens length less than 2\n",
        "      text = ' '.join(text_ for text_ in text.split() if len(text)>2)\n",
        "\n",
        "      if lemmatization :\n",
        "          #perform lemmatization\n",
        "          text = ' '.join(lemmatizer.lemmatize(text_)  for text_ in text.split() )\n",
        "\n",
        "      if stopwords:\n",
        "          #remove the stopwords\n",
        "          text = ' '.join([word for word in text.split() if word not in stopwords_dict])\n",
        "      return text\n",
        "'''\n",
        "#Load the data and run the preprocessor pipeline\n",
        "'''\n",
        "class Preprocessor:\n",
        "    def __init__(self):\n",
        "        \"\"\"Init function\n",
        "        \"\"\"\n",
        "    def load_data(self,path,preprocessed=True):\n",
        "        DIRECTORY1 = path\n",
        "\n",
        "        #import the data\n",
        "        data= pd.DataFrame(jsonl(path))\n",
        "        data['text']=data['text'].astype(str)\n",
        "\n",
        "        #data.dropna(subset = [\"text\"], inplace=True)\n",
        "        data['text']=data['text'].apply(lambda x : clean_data(x, stopwords=True,lemmatization=True))\n",
        "\n",
        "        #remove empty lines if any\n",
        "        data.dropna(subset = [\"text\"], inplace=True)\n",
        "\n",
        "        return data\n",
        "'''"
      ],
      "metadata": {
        "id": "CVS9lsB9l-Mh"
      },
      "execution_count": null,
      "outputs": []
    },
    {
      "cell_type": "code",
      "source": [
        "#corpus_pre = Preprocessor.load_data(preprocessed=True,'/content/drive/MyDrive/corpus.jsonl')\n",
        "#queries_pre = Preprocessor.load_data(preprocessed=True,'/content/drive/MyDrive/queries.jsonl')"
      ],
      "metadata": {
        "id": "clyhePwDm5AN"
      },
      "execution_count": null,
      "outputs": []
    },
    {
      "cell_type": "markdown",
      "source": [
        "*Dataset*"
      ],
      "metadata": {
        "id": "oae-TX6kBwug"
      }
    },
    {
      "cell_type": "code",
      "source": [
        "\n",
        "'''\n",
        "queries = queries.set_index('_id')['text'].to_dict()\n",
        "corpus = corpus.set_index('_id')['text'].to_dict()\n",
        "#up to 94% in corpus have 100 tokens and 99% 127 tokens\n",
        "#and the max tokens in queries is 38 tokens\n",
        "\n",
        "import csv\n",
        "\n",
        "#we have corpus/documents id,text and queries id,text als the training dataset query_id,doc_id\n",
        "def retrieve_pairs(corpus_dic,queries_dic,training_path):\n",
        "\n",
        "  tsv_file_path = '/content/drive/MyDrive/task1_train.tsv'\n",
        "  with open(tsv_file_path, 'r', newline='', encoding='utf-8') as tsvfile:\n",
        "\n",
        "    reader = csv.DictReader(tsvfile, delimiter='\\t')\n",
        "    training_pairs = []\n",
        "    for row in reader:\n",
        "      training_pairs.append((queries.get(row['query-id']),corpus.get(row['corpus-id'])))\n",
        "\n",
        "  return training_pairs   # list of [(query/string,corpus/string)]\n",
        "\n",
        "\n",
        "#With embeddings\n",
        "class DSSM_Dataset(Dataset):\n",
        "\n",
        "  def __init__(self, dataset, max_length):\n",
        "\n",
        "    self.max_seq_length = max_length\n",
        "    self.dssm_dataset = self.padding_(dataset,self.max_seq_length)\n",
        "    self.vocabulary = self.get_vocabulary(dataset)\n",
        "\n",
        "    #word to index dictionaries\n",
        "    self.word2index = { word : idx  for idx,word in enumerate(self.vocabulary) }\n",
        "    self.index2word = { idx  : word for idx,word in enumerate(self.vocabulary) }\n",
        "\n",
        "\n",
        "  def get_vocabulary(self,train_dataset):\n",
        "\n",
        "    #all unique words of our corpus+queries\n",
        "    vocabulary = ['<pad>']\n",
        "    vocabulary += sorted(set([word for pair in train_dataset for sentence in pair for word in sentence.split()]))\n",
        "    return vocabulary\n",
        "\n",
        "  @staticmethod\n",
        "  def padding_(dataset,max_length):\n",
        "\n",
        "    prepared_dataset=[]\n",
        "    for sample in dataset:\n",
        "      query,corpus = sample\n",
        "\n",
        "      query_tokens=query.split()\n",
        "      query_len=len(query_tokens)\n",
        "\n",
        "      corpus_tokens=corpus.split()\n",
        "      corpus_len=len(corpus_tokens)\n",
        "\n",
        "      if query_len < max_length:  #query can't be larger than 130 tokens\n",
        "        query=\" \".join(query_tokens+['<pad>']*(max_length-query_len))\n",
        "\n",
        "      if corpus_len < max_length:\n",
        "        corpus=\" \".join(corpus_tokens+['<pad>']*(max_length-corpus_len))\n",
        "      else:\n",
        "        #todo cut the corpus as the max_length\n",
        "        corpus=\" \".join(corpus_tokens[:max_length])\n",
        "\n",
        "      prepared_dataset.append((query,corpus))\n",
        "\n",
        "    return prepared_dataset\n",
        "\n",
        "\n",
        "  def __len__(self):\n",
        "    return len(self.dssm_dataset)\n",
        "\n",
        "  def __getitem__(self,idx):\n",
        "\n",
        "    query_tokens  = self.dssm_dataset[idx][0].split()\n",
        "    corpus_tokens = self.dssm_dataset[idx][1].split()\n",
        "\n",
        "    #return the input_ids for (query,corpus) pair\n",
        "    query_input_ids =  [self.word2index.get(token,self.word2index['<pad>'])  for token in query_tokens]\n",
        "    corpus_input_ids = [self.word2index.get(token,self.word2index['<pad>'])  for token in corpus_tokens]\n",
        "\n",
        "    return torch.tensor(query_input_ids),torch.tensor(corpus_input_ids)\n",
        "\n",
        "corpus_queries_dataset = retrieve_pairs(corpus,queries,'/content/drive/MyDrive/task1_train.tsv')\n",
        "MAX_LENGTH = 130\n",
        "\n",
        "dssm_dataset = DSSM_Dataset(corpus_queries_dataset , MAX_LENGTH)\n",
        "\n",
        "'''"
      ],
      "metadata": {
        "id": "BGBKDxZl6DYn"
      },
      "execution_count": 47,
      "outputs": []
    }
  ]
}