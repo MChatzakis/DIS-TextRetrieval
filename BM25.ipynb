{
 "cells": [
  {
   "cell_type": "code",
   "execution_count": 1,
   "metadata": {
    "collapsed": true
   },
   "outputs": [],
   "source": [
    "import pandas as pd\n",
    "import json\n",
    "from nltk.stem import PorterStemmer, WordNetLemmatizer\n",
    "import nltk\n",
    "from sklearn.feature_extraction.text import CountVectorizer, TfidfVectorizer\n",
    "from sklearn.metrics.pairwise import linear_kernel\n",
    "import string\n",
    "from nltk.corpus import stopwords\n",
    "import math\n",
    "from operator import itemgetter\n",
    "from collections import Counter\n",
    "import numpy as np\n",
    "import concurrent.futures\n",
    "\n",
    "import multiprocessing\n",
    "\n",
    "\n",
    "stemmer = PorterStemmer()\n"
   ]
  },
  {
   "cell_type": "code",
   "execution_count": 2,
   "outputs": [],
   "source": [
    "def load_jsonl_data_dict(data_path: str):\n",
    "    raw_dict = {}\n",
    "    with open(data_path, 'r') as file:\n",
    "        for line in file:\n",
    "            data = json.loads(line)\n",
    "            raw_dict[data['_id']] = data['text']\n",
    "    return raw_dict"
   ],
   "metadata": {
    "collapsed": false
   }
  },
  {
   "cell_type": "code",
   "execution_count": 3,
   "outputs": [],
   "source": [
    "raw_corpus = load_jsonl_data_dict(\"data/dataset/corpus.jsonl\")\n",
    "raw_queries = load_jsonl_data_dict(\"data/dataset/queries.jsonl\")"
   ],
   "metadata": {
    "collapsed": false
   }
  },
  {
   "cell_type": "code",
   "execution_count": 4,
   "outputs": [],
   "source": [
    "stopwords = set(['for', 'a', 'of', 'the', 'and', 'to', 'in'])"
   ],
   "metadata": {
    "collapsed": false
   }
  },
  {
   "cell_type": "code",
   "execution_count": null,
   "outputs": [],
   "source": [
    "corpus = raw_corpus.values()\n",
    "\n",
    "texts = [\n",
    "    [word for word in document.lower().split() if word not in stopwords]\n",
    "    for document in corpus\n",
    "]\n",
    "\n",
    "word_count_dict = {}\n",
    "for text in texts:\n",
    "    for token in text:\n",
    "        word_count = word_count_dict.get(token, 0) + 1\n",
    "        word_count_dict[token] = word_count\n",
    "\n",
    "texts = [[token for token in text if word_count_dict[token] > 1] for text in texts]\n",
    "texts"
   ],
   "metadata": {
    "collapsed": false,
    "pycharm": {
     "is_executing": true
    }
   }
  },
  {
   "cell_type": "code",
   "execution_count": null,
   "outputs": [],
   "source": [
    "def score_document(query, index, bm25_instance):\n",
    "    return bm25_instance._score(query, index)"
   ],
   "metadata": {
    "collapsed": false,
    "pycharm": {
     "is_executing": true
    }
   }
  },
  {
   "cell_type": "code",
   "execution_count": null,
   "outputs": [],
   "source": [
    "class BM25:\n",
    "    def __init__(self, k1=1.5, b=0.75):\n",
    "        self.b = b\n",
    "        self.k1 = k1\n",
    "\n",
    "    def fit(self, corpus):\n",
    "        tf = []\n",
    "        df = {}\n",
    "        idf = {}\n",
    "        doc_len = []\n",
    "        corpus_size = 0\n",
    "        for document in corpus:\n",
    "            corpus_size += 1\n",
    "            doc_len.append(len(document))\n",
    "\n",
    "            # compute tf (term frequency) per document\n",
    "            frequencies = {}\n",
    "            for term in document:\n",
    "                term_count = frequencies.get(term, 0) + 1\n",
    "                frequencies[term] = term_count\n",
    "\n",
    "            tf.append(frequencies)\n",
    "\n",
    "            # compute df (document frequency) per term\n",
    "            for term, _ in frequencies.items():\n",
    "                df_count = df.get(term, 0) + 1\n",
    "                df[term] = df_count\n",
    "\n",
    "        for term, freq in df.items():\n",
    "            idf[term] = math.log(1 + (corpus_size - freq + 0.5) / (freq + 0.5))\n",
    "\n",
    "        self.tf_ = tf\n",
    "        self.df_ = df\n",
    "        self.idf_ = idf\n",
    "        self.doc_len_ = doc_len\n",
    "        self.corpus_ = corpus\n",
    "        self.corpus_size_ = corpus_size\n",
    "        self.avg_doc_len_ = sum(doc_len) / corpus_size\n",
    "        return self\n",
    "\n",
    "    def search(self, query):\n",
    "        scores = np.array([self._score(query, index) for index in range(self.corpus_size_)])\n",
    "        return scores\n",
    "\n",
    "    def _score(self, query, index):\n",
    "        score = 0.0\n",
    "\n",
    "        doc_len = self.doc_len_[index]\n",
    "        frequencies = self.tf_[index]\n",
    "        for term in query:\n",
    "            if term not in frequencies:\n",
    "                continue\n",
    "\n",
    "            freq = frequencies[term]\n",
    "            numerator = self.idf_[term] * freq * (self.k1 + 1)\n",
    "            denominator = freq + self.k1 * (1 - self.b + self.b * doc_len / self.avg_doc_len_)\n",
    "            score += (numerator / denominator)\n",
    "\n",
    "        return score\n",
    "\n",
    "\n",
    "    def search_fast(self, query):\n",
    "        with multiprocessing.Pool() as pool:\n",
    "            scores = pool.starmap(score_document, [(query, index, self) for index in range(self.corpus_size_)])\n",
    "        return scores\n"
   ],
   "metadata": {
    "collapsed": false,
    "pycharm": {
     "is_executing": true
    }
   }
  },
  {
   "cell_type": "code",
   "execution_count": null,
   "outputs": [],
   "source": [
    "corpus_ids = list(raw_corpus.keys())"
   ],
   "metadata": {
    "collapsed": false,
    "pycharm": {
     "is_executing": true
    }
   }
  },
  {
   "cell_type": "code",
   "execution_count": null,
   "outputs": [],
   "source": [
    "bm25 = BM25()\n",
    "bm25.fit(texts)"
   ],
   "metadata": {
    "collapsed": false,
    "pycharm": {
     "is_executing": true
    }
   }
  },
  {
   "cell_type": "code",
   "execution_count": null,
   "outputs": [],
   "source": [
    "import time\n",
    "\n",
    "start_time = time.time()\n",
    "query = 'what are rhetorical topics'\n",
    "query = [word for word in query.lower().split() if word not in stopwords]\n",
    "\n",
    "scores = bm25.search(query)\n",
    "\n",
    "top_scores_indices = sorted(range(len(scores)), key=lambda i: scores[i], reverse=True)[:10]\n",
    "\n",
    "for i in top_scores_indices:\n",
    "    score = round(scores[i], 3)\n",
    "    print(str(score) + '\\t' + list(corpus)[i])\n",
    "    print(corpus_ids[i])\n",
    "    print()\n",
    "\n",
    "elapsed_time = time.time() - start_time\n",
    "print(f\"Time taken: {elapsed_time:.2f} seconds\")"
   ],
   "metadata": {
    "collapsed": false,
    "pycharm": {
     "is_executing": true
    }
   }
  },
  {
   "cell_type": "code",
   "execution_count": null,
   "outputs": [],
   "source": [
    "test_queries_df = pd.read_csv('data/task1_test.tsv', delimiter='\\t')\n",
    "test_queries_df.head()"
   ],
   "metadata": {
    "collapsed": false,
    "pycharm": {
     "is_executing": true
    }
   }
  },
  {
   "cell_type": "code",
   "execution_count": 13,
   "outputs": [
    {
     "name": "stdout",
     "output_type": "stream",
     "text": [
      "Time taken: 225.71 seconds\n"
     ]
    }
   ],
   "source": [
    "res = {}\n",
    "query_ids = list(test_queries_df['query-id'])\n",
    "\n",
    "start_time = time.time()\n",
    "\n",
    "for query_id in query_ids[:100]:\n",
    "    query = raw_queries[str(query_id)]\n",
    "    query = [word for word in query.lower().split() if word not in stopwords]\n",
    "    scores = bm25.search(query)\n",
    "\n",
    "    top_scores_indices = sorted(range(len(scores)), key=lambda i: scores[i], reverse=True)[:10]\n",
    "\n",
    "    res[query_id] = [corpus_ids[id] for id in top_scores_indices]\n",
    "\n",
    "elapsed_time = time.time() - start_time\n",
    "print(f\"Time taken: {elapsed_time:.2f} seconds\")"
   ],
   "metadata": {
    "collapsed": false
   }
  },
  {
   "cell_type": "code",
   "execution_count": 16,
   "outputs": [
    {
     "data": {
      "text/plain": "{300674: ['2495755',\n  '7067034',\n  '1266300',\n  '7067032',\n  '4107182',\n  '4501973',\n  '4501978',\n  '4665897',\n  '3538966',\n  '4190260'],\n 125705: ['752079',\n  '8257656',\n  '8102334',\n  '4729700',\n  '4913387',\n  '4742931',\n  '7887415',\n  '1321604',\n  '8110420',\n  '4946343'],\n 94798: ['1263956',\n  '5593857',\n  '7067180',\n  '7106962',\n  '2747827',\n  '7361019',\n  '1440563',\n  '7106959',\n  '729925',\n  '1263957'],\n 9083: ['7277875',\n  '1176428',\n  '1195004',\n  '7067274',\n  '3485264',\n  '3935658',\n  '881408',\n  '3023447',\n  '4120264',\n  '5110891'],\n 174249: ['1819312',\n  '756490',\n  '6875071',\n  '138586',\n  '5804537',\n  '8040506',\n  '711200',\n  '5163089',\n  '5452822',\n  '5551912'],\n 320792: ['1801860',\n  '1959158',\n  '6175036',\n  '2794135',\n  '4719403',\n  '6444012',\n  '5638820',\n  '6150530',\n  '4066424',\n  '507999'],\n 1090270: ['7067796',\n  '3022772',\n  '5933622',\n  '3022768',\n  '3930922',\n  '3192174',\n  '4990154',\n  '2985362',\n  '4194433',\n  '6183393'],\n 1101279: ['3692936',\n  '5190801',\n  '1088179',\n  '7067891',\n  '3735277',\n  '3705617',\n  '2124034',\n  '2938439',\n  '1874115',\n  '3600799'],\n 201376: ['7068066',\n  '6703427',\n  '7068073',\n  '4806032',\n  '1847927',\n  '4806028',\n  '8569098',\n  '3392856',\n  '8645578',\n  '2974808'],\n 54544: ['346072',\n  '5201524',\n  '3447005',\n  '5201525',\n  '1692001',\n  '1970565',\n  '1741100',\n  '6846959',\n  '1268039',\n  '7442782'],\n 118457: ['5736929',\n  '8335724',\n  '4388428',\n  '6290356',\n  '6859074',\n  '7881465',\n  '2605153',\n  '2605151',\n  '428209',\n  '428206'],\n 178627: ['5782113',\n  '238780',\n  '5650699',\n  '4139931',\n  '7781397',\n  '65659',\n  '8094625',\n  '2277114',\n  '7068519',\n  '6845910'],\n 1101278: ['7068907',\n  '8710081',\n  '4289759',\n  '5050959',\n  '2919121',\n  '4831904',\n  '695663',\n  '8687130',\n  '2967070',\n  '2919033'],\n 68095: ['6330989',\n  '7069266',\n  '3114980',\n  '6160861',\n  '5895121',\n  '5292494',\n  '6004733',\n  '1736175',\n  '6938549',\n  '1334192'],\n 87892: ['7069601',\n  '8376969',\n  '7069596',\n  '8376970',\n  '1994544',\n  '405457',\n  '974516',\n  '644947',\n  '7422890',\n  '6718264'],\n 257309: ['6366063',\n  '2510817',\n  '8826141',\n  '1009117',\n  '5679906',\n  '6385399',\n  '5759321',\n  '1170299',\n  '8476920',\n  '915949'],\n 1090242: ['7353359',\n  '8591252',\n  '6554933',\n  '7070552',\n  '3019505',\n  '1697677',\n  '7070558',\n  '849575',\n  '7070556',\n  '7561798'],\n 211691: ['1000685',\n  '8365009',\n  '5241747',\n  '5573795',\n  '7281989',\n  '5241750',\n  '1891168',\n  '8256369',\n  '3438458',\n  '4147654'],\n 165002: ['7070881',\n  '7070877',\n  '4148911',\n  '2930924',\n  '2264040',\n  '2023196',\n  '328487',\n  '5312321',\n  '1069551',\n  '16343'],\n 1101276: ['7070950',\n  '6938509',\n  '1708647',\n  '6270647',\n  '1596590',\n  '5239145',\n  '6270642',\n  '6279836',\n  '2153279',\n  '7643222'],\n 264827: ['645426',\n  '3027522',\n  '5813009',\n  '6246492',\n  '6786303',\n  '6246491',\n  '2577288',\n  '7055656',\n  '6246498',\n  '2578047'],\n 342285: ['4591908',\n  '4128811',\n  '7909030',\n  '6951488',\n  '3772704',\n  '220778',\n  '4284189',\n  '36356',\n  '5976515',\n  '7071438'],\n 372586: ['5754102',\n  '3832521',\n  '1362197',\n  '187736',\n  '1202999',\n  '3832517',\n  '4704927',\n  '4555347',\n  '494416',\n  '3832523'],\n 89786: ['7071501',\n  '389633',\n  '4837622',\n  '1405259',\n  '1842487',\n  '6402003',\n  '5892527',\n  '6835847',\n  '2203541',\n  '1690168'],\n 118448: ['2000773',\n  '2000776',\n  '3512739',\n  '2000771',\n  '3778768',\n  '4602941',\n  '3749001',\n  '4619483',\n  '6448234',\n  '1914766'],\n 92542: ['2606452',\n  '7072003',\n  '1388862',\n  '3537614',\n  '3960482',\n  '1218472',\n  '7036239',\n  '5179252',\n  '548260',\n  '2763589'],\n 206117: ['7072160',\n  '7634987',\n  '8371807',\n  '6338147',\n  '4618944',\n  '849217',\n  '8828023',\n  '849218',\n  '4497684',\n  '1664266'],\n 141472: ['3478385',\n  '2320923',\n  '4590834',\n  '6292409',\n  '3884881',\n  '6249757',\n  '3299960',\n  '8031248',\n  '2797952',\n  '513449'],\n 293992: ['708875',\n  '7217255',\n  '5407376',\n  '3510611',\n  '7002880',\n  '8079862',\n  '5763710',\n  '4892953',\n  '5407372',\n  '3627150'],\n 196232: ['959010',\n  '2794327',\n  '3903065',\n  '4320984',\n  '7797526',\n  '622122',\n  '2480692',\n  '4818894',\n  '4011169',\n  '3322085'],\n 352818: ['1584500',\n  '6250111',\n  '6333787',\n  '7299473',\n  '5604988',\n  '3219620',\n  '737503',\n  '4235919',\n  '2255428',\n  '3535316'],\n 45924: ['5406071',\n  '176783',\n  '1826394',\n  '3611282',\n  '6391357',\n  '7221189',\n  '5406072',\n  '7079109',\n  '7079111',\n  '6847702'],\n 208145: ['8351302',\n  '2318746',\n  '5209015',\n  '7072838',\n  '7831936',\n  '3837461',\n  '5550320',\n  '5896331',\n  '2039297',\n  '2284907'],\n 79891: ['7394036',\n  '1884408',\n  '6458877',\n  '1875169',\n  '1011835',\n  '5801125',\n  '5801128',\n  '6068078',\n  '1925979',\n  '5326961'],\n 208494: ['6564357',\n  '8208491',\n  '1258745',\n  '4628538',\n  '8296024',\n  '4165358',\n  '1134626',\n  '965246',\n  '8585362',\n  '1334720'],\n 319564: ['8333620',\n  '1722147',\n  '5614669',\n  '3739195',\n  '7456558',\n  '8496404',\n  '7156779',\n  '6470639',\n  '585123',\n  '3860511'],\n 155234: ['5423576',\n  '2511654',\n  '502716',\n  '1460044',\n  '2636668',\n  '7085783',\n  '697973',\n  '5423570',\n  '1782345',\n  '5792144'],\n 14151: ['8345516',\n  '7073772',\n  '8069306',\n  '7948990',\n  '5537730',\n  '4935807',\n  '5913709',\n  '3180423',\n  '3857334',\n  '6125237'],\n 67802: ['7074071',\n  '3449537',\n  '3880911',\n  '3213537',\n  '1894892',\n  '3430339',\n  '7652299',\n  '4499708',\n  '3643165',\n  '4007681'],\n 1090184: ['5748881',\n  '1794142',\n  '2320831',\n  '784856',\n  '1567399',\n  '1275069',\n  '6595041',\n  '141458',\n  '1204450',\n  '1192099'],\n 323382: ['6651317',\n  '5536274',\n  '512872',\n  '5531323',\n  '4741268',\n  '3603153',\n  '1070162',\n  '4978814',\n  '1058826',\n  '1938015'],\n 323998: ['7074377',\n  '4144897',\n  '3674761',\n  '4754113',\n  '6811172',\n  '2712742',\n  '3140273',\n  '1059134',\n  '6277561',\n  '2578620'],\n 91711: ['1808136',\n  '1956178',\n  '6545050',\n  '5975882',\n  '6545057',\n  '1956180',\n  '2353183',\n  '6354553',\n  '4444354',\n  '1940327'],\n 125898: ['8212745',\n  '5959470',\n  '978266',\n  '216188',\n  '1722425',\n  '738471',\n  '5480459',\n  '4084737',\n  '3791479',\n  '588986'],\n 289812: ['2472262',\n  '5116596',\n  '4610569',\n  '3855427',\n  '3907333',\n  '690598',\n  '3621799',\n  '5162144',\n  '4467375',\n  '760112'],\n 333486: ['3302184',\n  '634227',\n  '6507290',\n  '5000064',\n  '7020678',\n  '3173373',\n  '8258699',\n  '3930775',\n  '5781212',\n  '4745454'],\n 1090171: ['1617302',\n  '6476818',\n  '681565',\n  '7482170',\n  '7160099',\n  '7497081',\n  '7435328',\n  '2716829',\n  '8835312',\n  '685015'],\n 73257: ['7684638',\n  '8789700',\n  '4565655',\n  '6192522',\n  '1810913',\n  '8041868',\n  '133280',\n  '1968287',\n  '793077',\n  '1783342'],\n 1090170: ['6556216',\n  '3246791',\n  '7075408',\n  '3692607',\n  '2163410',\n  '5893320',\n  '7705810',\n  '6813212',\n  '6128059',\n  '1085861'],\n 237373: ['4021935',\n  '6259686',\n  '1640128',\n  '117065',\n  '5185355',\n  '3886931',\n  '884472',\n  '5748886',\n  '3685934',\n  '7270739'],\n 127876: ['5827239',\n  '2350448',\n  '3975295',\n  '6581080',\n  '204581',\n  '7075540',\n  '8612973',\n  '5428727',\n  '5106481',\n  '2350447'],\n 85095: ['3686885',\n  '596551',\n  '6709000',\n  '3660443',\n  '5303636',\n  '901065',\n  '3196065',\n  '3660442',\n  '2470119',\n  '5839028'],\n 1090165: ['3496558',\n  '4056358',\n  '7075793',\n  '4056363',\n  '8717460',\n  '652631',\n  '716110',\n  '5907663',\n  '3683899',\n  '3797581'],\n 259417: ['8726687',\n  '3361639',\n  '2313568',\n  '1269740',\n  '1378923',\n  '2256521',\n  '1000993',\n  '1378917',\n  '7803720',\n  '3972359'],\n 1101271: ['7075989',\n  '7075986',\n  '1419274',\n  '3408975',\n  '354144',\n  '1581524',\n  '361573',\n  '6325352',\n  '8175247',\n  '446295'],\n 281930: ['6963686',\n  '353615',\n  '7065702',\n  '2455798',\n  '8490645',\n  '809084',\n  '3529634',\n  '3003613',\n  '4708184',\n  '8347156'],\n 205107: ['3263195',\n  '613622',\n  '6289140',\n  '3245546',\n  '660477',\n  '154105',\n  '1176924',\n  '4133406',\n  '8565823',\n  '8565828'],\n 307118: ['1753133',\n  '2513828',\n  '7319830',\n  '7319827',\n  '6077970',\n  '6148789',\n  '3786855',\n  '619351',\n  '3456650',\n  '1066900'],\n 87019: ['7076754',\n  '7076758',\n  '5847437',\n  '2655155',\n  '5738155',\n  '7076759',\n  '5820872',\n  '7765216',\n  '1205295',\n  '7302025'],\n 335710: ['7076765',\n  '805962',\n  '3964316',\n  '7572303',\n  '805967',\n  '1185010',\n  '5080329',\n  '5080323',\n  '5801724',\n  '4200359'],\n 127984: ['3911890',\n  '2957677',\n  '5319061',\n  '3136303',\n  '4997513',\n  '6014744',\n  '8366163',\n  '1341365',\n  '4983500',\n  '7639000'],\n 1090151: ['3624302',\n  '6755223',\n  '3624309',\n  '1016724',\n  '2583451',\n  '6485392',\n  '3771070',\n  '5456715',\n  '7305017',\n  '432918'],\n 46711: ['7111750',\n  '5670912',\n  '1865971',\n  '3619837',\n  '194370',\n  '3693279',\n  '6326114',\n  '2625273',\n  '5981365',\n  '2484715'],\n 1090146: ['8482340',\n  '2075077',\n  '7077624',\n  '8710337',\n  '4577557',\n  '448352',\n  '1047553',\n  '1597337',\n  '6436246',\n  '4105605'],\n 1090132: ['3957704',\n  '3622800',\n  '8610242',\n  '3446546',\n  '8103758',\n  '8637523',\n  '7078051',\n  '7078050',\n  '257457',\n  '5188097'],\n 1090115: ['3397074',\n  '3397070',\n  '7619858',\n  '4599572',\n  '5509351',\n  '6697634',\n  '6550658',\n  '4334857',\n  '7197990',\n  '6326700'],\n 1090110: ['1458001',\n  '8246678',\n  '4564227',\n  '761220',\n  '7249188',\n  '5250562',\n  '26013',\n  '1977040',\n  '1138616',\n  '3318772'],\n 1090107: ['5457520',\n  '2715974',\n  '4576272',\n  '6301591',\n  '734867',\n  '3044183',\n  '7261575',\n  '6635498',\n  '8259207',\n  '5633811'],\n 1090102: ['1039417',\n  '7131464',\n  '8442778',\n  '6223754',\n  '7276245',\n  '31519',\n  '1437284',\n  '2316349',\n  '4465461',\n  '6614476'],\n 1090100: ['7078350',\n  '2315065',\n  '6335599',\n  '5690239',\n  '2384327',\n  '2249330',\n  '3202682',\n  '5690236',\n  '2888586',\n  '6345660'],\n 1090086: ['6177204',\n  '5345237',\n  '6289246',\n  '239444',\n  '1730551',\n  '5163801',\n  '7075112',\n  '5509351',\n  '2707630',\n  '1945054'],\n 1090077: ['1942229',\n  '6626324',\n  '2643252',\n  '151555',\n  '5361984',\n  '5303512',\n  '8214534',\n  '6617523',\n  '764889',\n  '6668258'],\n 1090072: ['1489040',\n  '6423721',\n  '6354196',\n  '2263877',\n  '5439877',\n  '7828174',\n  '1489037',\n  '6502078',\n  '295317',\n  '6078105'],\n 1090063: ['1248255',\n  '3401290',\n  '1230828',\n  '3165380',\n  '1248253',\n  '7118464',\n  '3165381',\n  '4903869',\n  '3755062',\n  '2324873'],\n 1090054: ['7078842',\n  '5886650',\n  '6296657',\n  '5841402',\n  '506846',\n  '2044779',\n  '553089',\n  '888095',\n  '1581891',\n  '2286168'],\n 1090043: ['7499479',\n  '7078956',\n  '6483838',\n  '8002728',\n  '3400867',\n  '3400567',\n  '2679367',\n  '8002723',\n  '7823461',\n  '5435782'],\n 1101259: ['7078991',\n  '1182758',\n  '7115878',\n  '2837219',\n  '2608557',\n  '2608553',\n  '8269013',\n  '5437766',\n  '2223751',\n  '2987956'],\n 1090029: ['6929024',\n  '6254310',\n  '4266866',\n  '277600',\n  '277603',\n  '7079065',\n  '1045336',\n  '3977315',\n  '8484913',\n  '4266865'],\n 1089983: ['3154565',\n  '7661376',\n  '6411495',\n  '2841131',\n  '6448687',\n  '370177',\n  '3989045',\n  '1224012',\n  '2621890',\n  '5720126'],\n 1089966: ['1375286',\n  '3390473',\n  '6813820',\n  '6392458',\n  '7813615',\n  '3596561',\n  '1711936',\n  '7079658',\n  '8825921',\n  '951072'],\n 1089964: ['7079676',\n  '7079680',\n  '7293320',\n  '5618747',\n  '8214534',\n  '1375286',\n  '7012137',\n  '1375282',\n  '8214539',\n  '3820626'],\n 1089945: ['7079883',\n  '1421653',\n  '1046392',\n  '8116519',\n  '3642277',\n  '2700124',\n  '6860540',\n  '6175067',\n  '6058332',\n  '955535'],\n 1089940: ['4520675',\n  '7601862',\n  '3461366',\n  '1627611',\n  '7079948',\n  '3461369',\n  '5204213',\n  '2286603',\n  '4490726',\n  '6133254'],\n 1089925: ['7080091',\n  '1078826',\n  '4392701',\n  '6668493',\n  '1662643',\n  '4326876',\n  '8088820',\n  '2865008',\n  '8680343',\n  '1320890'],\n 1089906: ['7080204',\n  '5223775',\n  '7122946',\n  '243620',\n  '2826907',\n  '8064856',\n  '8040405',\n  '189565',\n  '4545093',\n  '7189024'],\n 1089896: ['5902308',\n  '481747',\n  '7189024',\n  '5175310',\n  '7080300',\n  '7317126',\n  '6615748',\n  '1097985',\n  '2374312',\n  '5152900'],\n 1101236: ['2887556',\n  '7080466',\n  '332183',\n  '7517863',\n  '5349461',\n  '2162233',\n  '4192772',\n  '2162229',\n  '6165047',\n  '6539005'],\n 1089868: ['7080589',\n  '7080592',\n  '8260199',\n  '5725966',\n  '2482533',\n  '8213728',\n  '6238255',\n  '1456604',\n  '829307',\n  '2631537'],\n 1089846: ['8523160',\n  '6912389',\n  '6329764',\n  '422963',\n  '4391989',\n  '781168',\n  '6602030',\n  '2971648',\n  '8745767',\n  '6393104'],\n 1089832: ['5427686',\n  '7080937',\n  '3601294',\n  '7026680',\n  '1515073',\n  '6055107',\n  '1981669',\n  '4036287',\n  '5427685',\n  '2915208'],\n 1089810: ['4381450',\n  '7014460',\n  '261527',\n  '7740545',\n  '6044949',\n  '4086115',\n  '2296660',\n  '7081127',\n  '3172112',\n  '1690991'],\n 1101228: ['7081147',\n  '7448131',\n  '774278',\n  '7980743',\n  '4953985',\n  '2550298',\n  '1778720',\n  '528994',\n  '6676082',\n  '2871339'],\n 1089805: ['7081193',\n  '6981663',\n  '6981666',\n  '7854341',\n  '3072560',\n  '7928680',\n  '5061798',\n  '5766477',\n  '846613',\n  '8152229']}"
     },
     "execution_count": 16,
     "metadata": {},
     "output_type": "execute_result"
    }
   ],
   "source": [
    "res"
   ],
   "metadata": {
    "collapsed": false
   }
  },
  {
   "cell_type": "markdown",
   "source": [
    "## Using cosine similarity"
   ],
   "metadata": {
    "collapsed": false
   }
  },
  {
   "cell_type": "code",
   "execution_count": 31,
   "outputs": [],
   "source": [
    "documents = texts"
   ],
   "metadata": {
    "collapsed": false
   }
  },
  {
   "cell_type": "code",
   "execution_count": 8,
   "outputs": [],
   "source": [
    "import numpy as np\n",
    "\n",
    "def cosine_similarity(v1, v2):\n",
    "    dot_product = np.dot(v1, v2)\n",
    "    norm_v1 = np.linalg.norm(v1)\n",
    "    norm_v2 = np.linalg.norm(v2)\n",
    "\n",
    "    # Guard against divide-by-zero errors\n",
    "    if norm_v1 * norm_v2 == 0:\n",
    "        return 0\n",
    "\n",
    "    return dot_product / (norm_v1 * norm_v2)"
   ],
   "metadata": {
    "collapsed": false
   }
  },
  {
   "cell_type": "code",
   "execution_count": 10,
   "outputs": [],
   "source": [
    "# BM25 parameters\n",
    "k1 = 1.5\n",
    "b = 0.75"
   ],
   "metadata": {
    "collapsed": false
   }
  },
  {
   "cell_type": "code",
   "execution_count": 35,
   "outputs": [],
   "source": [
    "# create the vocabulary\n",
    "vocabulary = list(set([item for sublist in documents for item in sublist]))\n",
    "vocabulary.sort()"
   ],
   "metadata": {
    "collapsed": false
   }
  },
  {
   "cell_type": "code",
   "execution_count": 45,
   "outputs": [],
   "source": [
    "class BM25_2:\n",
    "    def __init__(self, k1=1.5, b=0.75):\n",
    "        self.b = b\n",
    "        self.k1 = k1\n",
    "\n",
    "    def fit(self, corpus):\n",
    "        tf = []\n",
    "        df = {}\n",
    "        idf = {}\n",
    "        doc_len = []\n",
    "        corpus_size = 0\n",
    "        for document in corpus:\n",
    "            corpus_size += 1\n",
    "            doc_len.append(len(document))\n",
    "\n",
    "            # compute tf (term frequency) per document\n",
    "            frequencies = {}\n",
    "            for term in document:\n",
    "                term_count = frequencies.get(term, 0) + 1\n",
    "                frequencies[term] = term_count\n",
    "\n",
    "            tf.append(frequencies)\n",
    "\n",
    "            # compute df (document frequency) per term\n",
    "            for term, _ in frequencies.items():\n",
    "                df_count = df.get(term, 0) + 1\n",
    "                df[term] = df_count\n",
    "\n",
    "        for term, freq in df.items():\n",
    "            idf[term] = math.log(1 + (corpus_size - freq + 0.5) / (freq + 0.5))\n",
    "\n",
    "        self.tf_ = tf\n",
    "        self.df_ = df\n",
    "        self.idf_ = idf\n",
    "        self.doc_len_ = doc_len\n",
    "        self.corpus_ = corpus\n",
    "        self.corpus_size_ = corpus_size\n",
    "        self.avg_doc_len_ = sum(doc_len) / corpus_size\n",
    "        return self\n",
    "\n",
    "    def search(self, query):\n",
    "        scores = np.array([self._score(query, index) for index in range(self.corpus_size_)])\n",
    "        return scores\n",
    "\n",
    "    def _score(self, query, index):\n",
    "        score = 0.0\n",
    "\n",
    "        doc_len = self.doc_len_[index]\n",
    "        frequencies = self.tf_[index]\n",
    "        for term in query:\n",
    "            if term not in frequencies:\n",
    "                continue\n",
    "\n",
    "            freq = frequencies[term]\n",
    "            numerator = self.idf_[term] * freq * (self.k1 + 1)\n",
    "            denominator = freq + self.k1 * (1 - self.b + self.b * doc_len / self.avg_doc_len_)\n",
    "            score += (numerator / denominator)\n",
    "\n",
    "        return score\n",
    "\n",
    "    def _score_term(self, term, index):\n",
    "        doc_len = self.doc_len_[index]\n",
    "        frequencies = self.tf_[index]\n",
    "\n",
    "        if term not in frequencies:\n",
    "            return 0.0\n",
    "\n",
    "        freq = frequencies[term]\n",
    "        numerator = self.idf_[term] * freq * (self.k1 + 1)\n",
    "        denominator = freq + self.k1 * (1 - self.b + self.b * doc_len / self.avg_doc_len_)\n",
    "        score = (numerator / denominator)\n",
    "\n",
    "        return score"
   ],
   "metadata": {
    "collapsed": false
   }
  },
  {
   "cell_type": "code",
   "execution_count": 46,
   "outputs": [
    {
     "data": {
      "text/plain": "<__main__.BM25_2 at 0x7fd63ea6f4c0>"
     },
     "execution_count": 46,
     "metadata": {},
     "output_type": "execute_result"
    }
   ],
   "source": [
    "bm25_2 = BM25_2()\n",
    "bm25_2.fit(texts)"
   ],
   "metadata": {
    "collapsed": false
   }
  },
  {
   "cell_type": "code",
   "execution_count": 48,
   "outputs": [
    {
     "ename": "KeyboardInterrupt",
     "evalue": "",
     "output_type": "error",
     "traceback": [
      "\u001B[0;31m---------------------------------------------------------------------------\u001B[0m",
      "\u001B[0;31mKeyboardInterrupt\u001B[0m                         Traceback (most recent call last)",
      "    \u001B[0;31m[... skipping hidden 1 frame]\u001B[0m\n",
      "\u001B[0;32m/var/folders/8l/38mw0fgd64x6gy7hbrcdfb1r0000gn/T/ipykernel_2147/2421033804.py\u001B[0m in \u001B[0;36m<module>\u001B[0;34m\u001B[0m\n\u001B[1;32m      5\u001B[0m \u001B[0;31m# Compute BM25 vectors\u001B[0m\u001B[0;34m\u001B[0m\u001B[0;34m\u001B[0m\u001B[0m\n\u001B[0;32m----> 6\u001B[0;31m \u001B[0mdocument_bm25_vectors\u001B[0m \u001B[0;34m=\u001B[0m \u001B[0;34m[\u001B[0m\u001B[0mbm25_vectorize\u001B[0m\u001B[0;34m(\u001B[0m\u001B[0md\u001B[0m\u001B[0;34m,\u001B[0m \u001B[0mvocabulary\u001B[0m\u001B[0;34m,\u001B[0m \u001B[0mbm25_2\u001B[0m\u001B[0;34m.\u001B[0m\u001B[0midf_\u001B[0m\u001B[0;34m,\u001B[0m \u001B[0mbm25_2\u001B[0m\u001B[0;34m.\u001B[0m\u001B[0mavg_doc_len_\u001B[0m\u001B[0;34m,\u001B[0m \u001B[0mi\u001B[0m\u001B[0;34m)\u001B[0m \u001B[0;32mfor\u001B[0m \u001B[0mi\u001B[0m \u001B[0;34m,\u001B[0m\u001B[0md\u001B[0m \u001B[0;32min\u001B[0m \u001B[0menumerate\u001B[0m\u001B[0;34m(\u001B[0m\u001B[0mdocuments\u001B[0m\u001B[0;34m)\u001B[0m\u001B[0;34m]\u001B[0m\u001B[0;34m\u001B[0m\u001B[0;34m\u001B[0m\u001B[0m\n\u001B[0m\u001B[1;32m      7\u001B[0m \u001B[0;34m\u001B[0m\u001B[0m\n",
      "\u001B[0;32m/var/folders/8l/38mw0fgd64x6gy7hbrcdfb1r0000gn/T/ipykernel_2147/2421033804.py\u001B[0m in \u001B[0;36m<listcomp>\u001B[0;34m(.0)\u001B[0m\n\u001B[1;32m      5\u001B[0m \u001B[0;31m# Compute BM25 vectors\u001B[0m\u001B[0;34m\u001B[0m\u001B[0;34m\u001B[0m\u001B[0m\n\u001B[0;32m----> 6\u001B[0;31m \u001B[0mdocument_bm25_vectors\u001B[0m \u001B[0;34m=\u001B[0m \u001B[0;34m[\u001B[0m\u001B[0mbm25_vectorize\u001B[0m\u001B[0;34m(\u001B[0m\u001B[0md\u001B[0m\u001B[0;34m,\u001B[0m \u001B[0mvocabulary\u001B[0m\u001B[0;34m,\u001B[0m \u001B[0mbm25_2\u001B[0m\u001B[0;34m.\u001B[0m\u001B[0midf_\u001B[0m\u001B[0;34m,\u001B[0m \u001B[0mbm25_2\u001B[0m\u001B[0;34m.\u001B[0m\u001B[0mavg_doc_len_\u001B[0m\u001B[0;34m,\u001B[0m \u001B[0mi\u001B[0m\u001B[0;34m)\u001B[0m \u001B[0;32mfor\u001B[0m \u001B[0mi\u001B[0m \u001B[0;34m,\u001B[0m\u001B[0md\u001B[0m \u001B[0;32min\u001B[0m \u001B[0menumerate\u001B[0m\u001B[0;34m(\u001B[0m\u001B[0mdocuments\u001B[0m\u001B[0;34m)\u001B[0m\u001B[0;34m]\u001B[0m\u001B[0;34m\u001B[0m\u001B[0;34m\u001B[0m\u001B[0m\n\u001B[0m\u001B[1;32m      7\u001B[0m \u001B[0;34m\u001B[0m\u001B[0m\n",
      "\u001B[0;32m/var/folders/8l/38mw0fgd64x6gy7hbrcdfb1r0000gn/T/ipykernel_2147/2421033804.py\u001B[0m in \u001B[0;36mbm25_vectorize\u001B[0;34m(document, vocabulary, idf, avg_dl, i)\u001B[0m\n\u001B[1;32m      2\u001B[0m \u001B[0;32mdef\u001B[0m \u001B[0mbm25_vectorize\u001B[0m\u001B[0;34m(\u001B[0m\u001B[0mdocument\u001B[0m\u001B[0;34m,\u001B[0m \u001B[0mvocabulary\u001B[0m\u001B[0;34m,\u001B[0m \u001B[0midf\u001B[0m\u001B[0;34m,\u001B[0m \u001B[0mavg_dl\u001B[0m\u001B[0;34m,\u001B[0m \u001B[0mi\u001B[0m\u001B[0;34m)\u001B[0m\u001B[0;34m:\u001B[0m\u001B[0;34m\u001B[0m\u001B[0;34m\u001B[0m\u001B[0m\n\u001B[0;32m----> 3\u001B[0;31m     \u001B[0;32mreturn\u001B[0m \u001B[0;34m[\u001B[0m\u001B[0mbm25_2\u001B[0m\u001B[0;34m.\u001B[0m\u001B[0m_score_term\u001B[0m\u001B[0;34m(\u001B[0m\u001B[0mterm\u001B[0m\u001B[0;34m,\u001B[0m \u001B[0mi\u001B[0m\u001B[0;34m)\u001B[0m \u001B[0;32mfor\u001B[0m \u001B[0mterm\u001B[0m \u001B[0;32min\u001B[0m \u001B[0mvocabulary\u001B[0m\u001B[0;34m]\u001B[0m\u001B[0;34m\u001B[0m\u001B[0;34m\u001B[0m\u001B[0m\n\u001B[0m\u001B[1;32m      4\u001B[0m \u001B[0;34m\u001B[0m\u001B[0m\n",
      "\u001B[0;32m/var/folders/8l/38mw0fgd64x6gy7hbrcdfb1r0000gn/T/ipykernel_2147/2421033804.py\u001B[0m in \u001B[0;36m<listcomp>\u001B[0;34m(.0)\u001B[0m\n\u001B[1;32m      2\u001B[0m \u001B[0;32mdef\u001B[0m \u001B[0mbm25_vectorize\u001B[0m\u001B[0;34m(\u001B[0m\u001B[0mdocument\u001B[0m\u001B[0;34m,\u001B[0m \u001B[0mvocabulary\u001B[0m\u001B[0;34m,\u001B[0m \u001B[0midf\u001B[0m\u001B[0;34m,\u001B[0m \u001B[0mavg_dl\u001B[0m\u001B[0;34m,\u001B[0m \u001B[0mi\u001B[0m\u001B[0;34m)\u001B[0m\u001B[0;34m:\u001B[0m\u001B[0;34m\u001B[0m\u001B[0;34m\u001B[0m\u001B[0m\n\u001B[0;32m----> 3\u001B[0;31m     \u001B[0;32mreturn\u001B[0m \u001B[0;34m[\u001B[0m\u001B[0mbm25_2\u001B[0m\u001B[0;34m.\u001B[0m\u001B[0m_score_term\u001B[0m\u001B[0;34m(\u001B[0m\u001B[0mterm\u001B[0m\u001B[0;34m,\u001B[0m \u001B[0mi\u001B[0m\u001B[0;34m)\u001B[0m \u001B[0;32mfor\u001B[0m \u001B[0mterm\u001B[0m \u001B[0;32min\u001B[0m \u001B[0mvocabulary\u001B[0m\u001B[0;34m]\u001B[0m\u001B[0;34m\u001B[0m\u001B[0;34m\u001B[0m\u001B[0m\n\u001B[0m\u001B[1;32m      4\u001B[0m \u001B[0;34m\u001B[0m\u001B[0m\n",
      "\u001B[0;32m/var/folders/8l/38mw0fgd64x6gy7hbrcdfb1r0000gn/T/ipykernel_2147/2041666147.py\u001B[0m in \u001B[0;36m_score_term\u001B[0;34m(self, term, index)\u001B[0m\n\u001B[1;32m    112\u001B[0m         \u001B[0mdoc_len\u001B[0m \u001B[0;34m=\u001B[0m \u001B[0mself\u001B[0m\u001B[0;34m.\u001B[0m\u001B[0mdoc_len_\u001B[0m\u001B[0;34m[\u001B[0m\u001B[0mindex\u001B[0m\u001B[0;34m]\u001B[0m\u001B[0;34m\u001B[0m\u001B[0;34m\u001B[0m\u001B[0m\n\u001B[0;32m--> 113\u001B[0;31m         \u001B[0mfrequencies\u001B[0m \u001B[0;34m=\u001B[0m \u001B[0mself\u001B[0m\u001B[0;34m.\u001B[0m\u001B[0mtf_\u001B[0m\u001B[0;34m[\u001B[0m\u001B[0mindex\u001B[0m\u001B[0;34m]\u001B[0m\u001B[0;34m\u001B[0m\u001B[0;34m\u001B[0m\u001B[0m\n\u001B[0m\u001B[1;32m    114\u001B[0m \u001B[0;34m\u001B[0m\u001B[0m\n",
      "\u001B[0;31mKeyboardInterrupt\u001B[0m: ",
      "\nDuring handling of the above exception, another exception occurred:\n",
      "\u001B[0;31mKeyboardInterrupt\u001B[0m                         Traceback (most recent call last)",
      "\u001B[0;31mKeyboardInterrupt\u001B[0m: "
     ]
    }
   ],
   "source": [
    "# Function to generate the BM25 vector for a document\n",
    "def bm25_vectorize(document, vocabulary, idf, avg_dl, i):\n",
    "    return [bm25_2._score_term(term, i) for term in vocabulary]\n",
    "\n",
    "# Compute BM25 vectors\n",
    "document_bm25_vectors = [bm25_vectorize(d, vocabulary, bm25_2.idf_, bm25_2.avg_doc_len_, i) for i ,d in enumerate(documents)]\n"
   ],
   "metadata": {
    "collapsed": false
   }
  },
  {
   "cell_type": "code",
   "execution_count": 35,
   "outputs": [],
   "source": [
    "# Adjusting the search function for BM25\n",
    "def bm25_search_vec(query, topk=10):\n",
    "    q = query.split()\n",
    "    q = [stemmer.stem(w) for w in q]\n",
    "    query_vector = bm25_vectorize(q, vocabulary, idf, avg_dl)  # Use the BM25 vector function\n",
    "    scores = [[cosine_similarity(query_vector, document_bm25_vectors[d]), d] for d in range(len(documents))]\n",
    "    scores.sort(key=lambda x: -x[0])\n",
    "    doc_ids = []\n",
    "    for i in range(topk):\n",
    "        doc_ids.append(scores[i][1])\n",
    "    return doc_ids\n"
   ],
   "metadata": {
    "collapsed": false
   }
  },
  {
   "cell_type": "code",
   "execution_count": 36,
   "outputs": [
    {
     "ename": "TypeError",
     "evalue": "'dict_values' object is not subscriptable",
     "output_type": "error",
     "traceback": [
      "\u001B[0;31m---------------------------------------------------------------------------\u001B[0m",
      "\u001B[0;31mTypeError\u001B[0m                                 Traceback (most recent call last)",
      "\u001B[0;32m/var/folders/8l/38mw0fgd64x6gy7hbrcdfb1r0000gn/T/ipykernel_53941/3968179254.py\u001B[0m in \u001B[0;36m<module>\u001B[0;34m\u001B[0m\n\u001B[1;32m      1\u001B[0m \u001B[0mtf_doc_ids\u001B[0m \u001B[0;34m=\u001B[0m \u001B[0mbm25_search_vec\u001B[0m\u001B[0;34m(\u001B[0m\u001B[0;34m'can you use a calculator on the compass test'\u001B[0m\u001B[0;34m)\u001B[0m\u001B[0;34m\u001B[0m\u001B[0;34m\u001B[0m\u001B[0m\n\u001B[1;32m      2\u001B[0m \u001B[0;32mfor\u001B[0m \u001B[0mi\u001B[0m\u001B[0;34m,\u001B[0m \u001B[0mv\u001B[0m \u001B[0;32min\u001B[0m \u001B[0menumerate\u001B[0m\u001B[0;34m(\u001B[0m\u001B[0mtf_doc_ids\u001B[0m\u001B[0;34m)\u001B[0m\u001B[0;34m:\u001B[0m\u001B[0;34m\u001B[0m\u001B[0;34m\u001B[0m\u001B[0m\n\u001B[0;32m----> 3\u001B[0;31m     \u001B[0mprint\u001B[0m\u001B[0;34m(\u001B[0m\u001B[0mdocuments\u001B[0m\u001B[0;34m[\u001B[0m\u001B[0mv\u001B[0m\u001B[0;34m]\u001B[0m\u001B[0;34m)\u001B[0m\u001B[0;34m\u001B[0m\u001B[0;34m\u001B[0m\u001B[0m\n\u001B[0m",
      "\u001B[0;31mTypeError\u001B[0m: 'dict_values' object is not subscriptable"
     ]
    }
   ],
   "source": [
    "tf_doc_ids = bm25_search_vec('can you use a calculator on the compass test')\n",
    "for i, v in enumerate(tf_doc_ids):\n",
    "    print(documents[v])"
   ],
   "metadata": {
    "collapsed": false
   }
  },
  {
   "cell_type": "code",
   "execution_count": 38,
   "outputs": [
    {
     "name": "stdout",
     "output_type": "stream",
     "text": [
      "in italian the name oria means golden other origins for the name oria include italian dominican the name oria is most often used as a girl name or female name italian name meaning golden\n",
      "-------\n",
      "english to spanish translation spanish to english translation french to english translation english to german translation\n",
      "-------\n",
      "it stands for intermediate computer science and. incident command system. it stands for intermediate computer science and. incident command system.\n",
      "-------\n",
      "icmp stands for internet control message protocol and is one of many utilities that are part of the internet protocol suite\n",
      "-------\n",
      "a meta analysis is a statistical analysis that combines the results of multiple scientific studies\n",
      "-------\n",
      "that human touch two years ago the commission on dental accreditation coda sent a message to dental schools around the country don t forget the human element creating a culture of respect has emerged as a national priority in dental education\n",
      "-------\n",
      "inpatient coding mantra for selection of principal diagnosis. the principal diagnosis is the condition established after study for occaisioning the admission of the patient to the hospital for care.\n",
      "-------\n",
      "mysophilia. an abnormal attraction to filth.\n",
      "-------\n",
      "short term side effects of prednisone may include stomach irritation headaches insomnia see prednisone and insomnia mood changes including irritability or aggression\n",
      "-------\n",
      "a disease is a particular abnormal condition a disorder of a structure or function that affects part or all of an organism the causal study of disease is called pathology disease is a particular abnormal condition a disorder of a structure or function that affects part or all of an organism the causal study of disease is called pathology\n",
      "-------\n"
     ]
    }
   ],
   "source": [
    "for i, v in enumerate(tf_doc_ids):\n",
    "    print(list(documents)[v])\n",
    "    print(\"-------\")"
   ],
   "metadata": {
    "collapsed": false
   }
  },
  {
   "cell_type": "code",
   "execution_count": null,
   "outputs": [],
   "source": [],
   "metadata": {
    "collapsed": false
   }
  }
 ],
 "metadata": {
  "kernelspec": {
   "display_name": "Python 3",
   "language": "python",
   "name": "python3"
  },
  "language_info": {
   "codemirror_mode": {
    "name": "ipython",
    "version": 2
   },
   "file_extension": ".py",
   "mimetype": "text/x-python",
   "name": "python",
   "nbconvert_exporter": "python",
   "pygments_lexer": "ipython2",
   "version": "2.7.6"
  }
 },
 "nbformat": 4,
 "nbformat_minor": 0
}
